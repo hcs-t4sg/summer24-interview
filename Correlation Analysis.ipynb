{
 "cells": [
  {
   "cell_type": "code",
   "execution_count": 13,
   "id": "2ae3c3f1-58bd-4fd9-863b-8b0f11b11b15",
   "metadata": {},
   "outputs": [],
   "source": [
    "import pandas as pd\n",
    "import scipy\n",
    "import numpy as np\n",
    "import plotly.express as px"
   ]
  },
  {
   "cell_type": "code",
   "execution_count": 3,
   "id": "dc692550-bfd6-4743-8d28-90d1777e35dc",
   "metadata": {},
   "outputs": [
    {
     "name": "stdout",
     "output_type": "stream",
     "text": [
      "Index(['Unnamed: 0', 'R1: Excitement', 'SWE R2 I1: Deliverable',\n",
      "       'SWE R2 I1: Technical Communication', 'SWE R2 I1: Learning Ability',\n",
      "       'SWE R2 I1: Teamwork & Communication', 'SWE R2 I1: Overall',\n",
      "       'SWE R2 I2: Deliverable', 'SWE R2 I2: Technical Communication',\n",
      "       'SWE R2 I2: Learning Ability', 'SWE R2 I2: Teamwork & Communication',\n",
      "       'SWE R2 I2: Overall', 'Accepted?', 'Duration (Semesters)',\n",
      "       'Current Member?'],\n",
      "      dtype='object')\n",
      "Index(['Unnamed: 0', 'R1: Excitement', 'SWE R2 I1: Deliverable',\n",
      "       'SWE R2 I1: Technical Communication', 'SWE R2 I1: Learning Ability',\n",
      "       'SWE R2 I1: Teamwork & Communication', 'SWE R2 I1: Overall',\n",
      "       'SWE R2 I2: Deliverable', 'SWE R2 I2: Technical Communication',\n",
      "       'SWE R2 I2: Learning Ability', 'SWE R2 I2: Teamwork & Communication',\n",
      "       'SWE R2 I2: Overall', 'SWE R2 Status', 'Accepted?',\n",
      "       'Duration (Semesters)', 'Current Member?'],\n",
      "      dtype='object')\n",
      "Index(['Unnamed: 0', 'R1: Excitement', 'R1: Overall', 'R1 Average Score',\n",
      "       'SWE R2 I1: Deliverable', 'SWE R2 I1: Technical Communication',\n",
      "       'SWE R2 I1: Learning Ability', 'SWE R2 I1: Teamwork & Communication',\n",
      "       'SWE R2 I1: Overall', 'SWE R2 I2: Deliverable',\n",
      "       'SWE R2 I2: Technical Communication', 'SWE R2 I2: Learning Ability',\n",
      "       'SWE R2 I2: Teamwork & Communication', 'SWE R2 I2: Overall',\n",
      "       'SWE R2 Average Score', 'SWE Performance Score', 'SWE R2 Status',\n",
      "       'Accepted?', 'Duration (Semesters)', 'Current Member?'],\n",
      "      dtype='object')\n",
      "Index(['Unnamed: 0', 'R1: Excitement', 'R1: Overall',\n",
      "       'SWE R2 I1: Passion/Engagement', 'SWE R2 I1: Deliverable',\n",
      "       'SWE R2 I1: Technical Communication', 'SWE R2 I1: Learning Ability',\n",
      "       'SWE R2 I1: Overall', 'SWE R2 I1: Passion/Engagement.1',\n",
      "       'SWE R2 I2: Deliverable', 'SWE R2 I2: Technical Communication',\n",
      "       'SWE R2 I2: Learning Ability', 'SWE R2 I2: Overall', 'R1 Average Score',\n",
      "       'SWE R2 Average Score', 'SWE R2 Status', 'Accepted?',\n",
      "       'Duration (Semesters)', 'Current Member?'],\n",
      "      dtype='object')\n"
     ]
    }
   ],
   "source": [
    "df = pd.read_csv(\"F22ProcessedData.csv\")\n",
    "print(df.columns)\n",
    "\n",
    "df = pd.read_csv(\"S23ProcessedData.csv\")\n",
    "print(df.columns)\n",
    "\n",
    "df = pd.read_csv(\"F23ProcessedData.csv\")\n",
    "print(df.columns)\n",
    "\n",
    "df = pd.read_csv(\"S24ProcessedData.csv\")\n",
    "print(df.columns)"
   ]
  },
  {
   "cell_type": "markdown",
   "id": "d187bf68-23b2-46f2-b00d-cdb694170d52",
   "metadata": {},
   "source": [
    "## Calculate Correlation Between Interviewing Scores and Accepted"
   ]
  },
  {
   "cell_type": "code",
   "execution_count": 4,
   "id": "ee74877a-3da4-47e7-8e09-7691eaedfb8a",
   "metadata": {},
   "outputs": [],
   "source": [
    "def acceptedAndDurationCorr(file_name):\n",
    "    df = pd.read_csv(file_name)\n",
    "\n",
    "    # List of features\n",
    "    columns_interview = []\n",
    "    for column_i in list(df.columns)[1:]:\n",
    "        columns_interview.append(column_i)\n",
    "        if column_i == 'SWE R2 I2: Overall' or column_i == 'SWE R2 Average Score':\n",
    "            break\n",
    "    \n",
    "    # Found appropriate correlation measure here: https://www.ce.memphis.edu/7012/L17_CategoricalVariableAssociation.pdf \n",
    "    \n",
    "    corr_list = []\n",
    "    for column_i in columns_interview:\n",
    "        corr_list.append((\n",
    "            column_i, \n",
    "            scipy.stats.pointbiserialr(np.array(df[column_i]), np.array(df['Accepted?'])),\n",
    "            scipy.stats.pearsonr(np.array(df[column_i]), np.array(df['Duration (Semesters)'])),\n",
    "        ))\n",
    "\n",
    "    print(\"TOP 5 R Accepted Values\")\n",
    "    corr_list.sort(key = lambda item : item[1].statistic)\n",
    "    \n",
    "    for key, val, val2  in corr_list[-5:]:\n",
    "        print(key, val.statistic)\n",
    "\n",
    "    print(\"TOP 5 R Duration Values\")\n",
    "    corr_list.sort(key = lambda item : item[2].statistic)\n",
    "    \n",
    "    for key, val, val2 in corr_list[-5:]:\n",
    "        print(key, val2.statistic)\n",
    "\n",
    "    print()\n",
    "\n",
    "   "
   ]
  },
  {
   "cell_type": "code",
   "execution_count": 5,
   "id": "859181c6-0a97-4ea7-a8e1-cf65801dadde",
   "metadata": {},
   "outputs": [
    {
     "name": "stdout",
     "output_type": "stream",
     "text": [
      "F22ProcessedData.csv\n",
      "TOP 5 R Accepted Values\n",
      "SWE R2 I1: Deliverable 0.5379823748652963\n",
      "SWE R2 I1: Teamwork & Communication 0.548833100977617\n",
      "SWE R2 I1: Learning Ability 0.5695210740924566\n",
      "SWE R2 I1: Technical Communication 0.6058791811846899\n",
      "SWE R2 I1: Overall 0.6422802539779227\n",
      "TOP 5 R Duration Values\n",
      "SWE R2 I1: Deliverable 0.47523317704262996\n",
      "SWE R2 I1: Learning Ability 0.49340944747388493\n",
      "SWE R2 I1: Teamwork & Communication 0.5267490804694394\n",
      "SWE R2 I1: Technical Communication 0.575128035872991\n",
      "SWE R2 I1: Overall 0.611803405523612\n",
      "\n",
      "S23ProcessedData.csv\n",
      "TOP 5 R Accepted Values\n",
      "SWE R2 I2: Learning Ability 0.5034816842488848\n",
      "SWE R2 I2: Overall 0.5069288611926808\n",
      "SWE R2 I2: Teamwork & Communication 0.5200911513951968\n",
      "SWE R2 I1: Overall 0.5271935748519105\n",
      "SWE R2 I2: Deliverable 0.5327694141696595\n",
      "TOP 5 R Duration Values\n",
      "SWE R2 I2: Learning Ability 0.42035141025478173\n",
      "SWE R2 I2: Deliverable 0.43092853926630714\n",
      "SWE R2 I2: Overall 0.4332510240032247\n",
      "SWE R2 I1: Overall 0.43789953035615203\n",
      "SWE R2 I2: Teamwork & Communication 0.45830112414167956\n",
      "\n",
      "F23ProcessedData.csv\n",
      "TOP 5 R Accepted Values\n",
      "SWE R2 I2: Deliverable 0.6454928065167762\n",
      "SWE R2 I2: Overall 0.6548822518554887\n",
      "SWE R2 I2: Technical Communication 0.6727366976327445\n",
      "SWE R2 I1: Deliverable 0.6745243038232587\n",
      "SWE R2 I1: Overall 0.6820807993641047\n",
      "TOP 5 R Duration Values\n",
      "SWE R2 I1: Deliverable 0.6138857162741049\n",
      "SWE R2 I2: Overall 0.6278340628260894\n",
      "SWE R2 I1: Teamwork & Communication 0.6284382544787369\n",
      "SWE R2 I1: Overall 0.643242209920557\n",
      "SWE R2 I2: Technical Communication 0.6512165317525693\n",
      "\n",
      "S24ProcessedData.csv\n",
      "TOP 5 R Accepted Values\n",
      "SWE R2 I2: Overall 0.3599184020825213\n",
      "SWE R2 I1: Overall 0.3875057305843901\n",
      "SWE R2 I1: Deliverable 0.389171198959616\n",
      "SWE R2 I1: Technical Communication 0.4292715531510685\n",
      "SWE R2 I2: Deliverable 0.4434656396448605\n",
      "TOP 5 R Duration Values\n",
      "SWE R2 I2: Overall 0.3599184020825213\n",
      "SWE R2 I1: Overall 0.3875057305843901\n",
      "SWE R2 I1: Deliverable 0.389171198959616\n",
      "SWE R2 I1: Technical Communication 0.4292715531510685\n",
      "SWE R2 I2: Deliverable 0.4434656396448605\n",
      "\n"
     ]
    }
   ],
   "source": [
    "for file_i in [\"F22ProcessedData.csv\", \"S23ProcessedData.csv\", \"F23ProcessedData.csv\", \"S24ProcessedData.csv\"]:\n",
    "    print(file_i)\n",
    "    acceptedAndDurationCorr(file_name = file_i)\n",
    "    "
   ]
  },
  {
   "cell_type": "markdown",
   "id": "df358982-812d-4b31-9b5a-82c8a60961f3",
   "metadata": {},
   "source": [
    "## Plot Columns Across Years"
   ]
  },
  {
   "cell_type": "markdown",
   "id": "26a3fb9b-f03e-4f49-a932-032bbd243264",
   "metadata": {},
   "source": [
    "### Look at columns in common"
   ]
  },
  {
   "cell_type": "code",
   "execution_count": 6,
   "id": "37aef544-1d79-4f71-98f5-07c0528a7e88",
   "metadata": {},
   "outputs": [
    {
     "name": "stdout",
     "output_type": "stream",
     "text": [
      "In Common across years: {'Accepted?', 'R1: Excitement', 'Current Member?', 'SWE R2 I2: Technical Communication', 'SWE R2 I1: Overall', 'SWE R2 I1: Technical Communication', 'Unnamed: 0', 'SWE R2 I2: Deliverable', 'SWE R2 I2: Learning Ability', 'SWE R2 I1: Learning Ability', 'SWE R2 I1: Deliverable', 'SWE R2 I2: Overall', 'Duration (Semesters)'}\n",
      "Total: {'Accepted?', 'SWE R2 I2: Technical Communication', 'SWE R2 I1: Passion/Engagement', 'SWE R2 I2: Deliverable', 'SWE R2 I1: Learning Ability', 'SWE R2 I2: Overall', 'SWE R2 I1: Passion/Engagement.1', 'R1: Excitement', 'SWE R2 Average Score', 'SWE R2 I1: Teamwork & Communication', 'R1 Average Score', 'SWE R2 I1: Deliverable', 'R1: Overall', 'SWE R2 I1: Overall', 'SWE R2 Status', 'Unnamed: 0', 'SWE Performance Score', 'SWE R2 I2: Teamwork & Communication', 'Duration (Semesters)', 'Current Member?', 'SWE R2 I1: Technical Communication', 'SWE R2 I2: Learning Ability'}\n",
      "Not in every year: {'R1: Overall', 'SWE R2 I1: Passion/Engagement', 'SWE R2 Status', 'SWE R2 Average Score', 'SWE Performance Score', 'SWE R2 I1: Teamwork & Communication', 'R1 Average Score', 'SWE R2 I2: Teamwork & Communication', 'SWE R2 I1: Passion/Engagement.1'}\n"
     ]
    }
   ],
   "source": [
    "from operator import and_, or_\n",
    "from functools import reduce\n",
    "\n",
    "columns_list = []\n",
    "columns_total = set()\n",
    "for file_name in [\"F22ProcessedData.csv\", \"S23ProcessedData.csv\", \"F23ProcessedData.csv\", \"S24ProcessedData.csv\"]:\n",
    "    df_i = pd.read_csv(file_name)\n",
    "    columns_i = list(df_i.columns)\n",
    "\n",
    "    columns_list.append(set(columns_i))\n",
    "    columns_total.update(columns_i)\n",
    "\n",
    "print(\"In Common across years:\", set(reduce(and_, columns_list)) )\n",
    "print(\"Total:\", columns_total)\n",
    "print(\"Not in every year:\", columns_total - set(reduce(and_, columns_list)))"
   ]
  },
  {
   "cell_type": "markdown",
   "id": "47ae3541-b422-477d-bbab-fd23b30bb932",
   "metadata": {},
   "source": [
    "### Combine csvs"
   ]
  },
  {
   "cell_type": "code",
   "execution_count": 69,
   "id": "aa06feeb-6cdf-46e7-8ce4-77785ca69086",
   "metadata": {},
   "outputs": [],
   "source": [
    "data = []\n",
    "\n",
    "max_duration_dict = {\n",
    "    'F22': 4,\n",
    "    'S23': 3,\n",
    "    'F23': 2,\n",
    "    'S24': 1\n",
    "}\n",
    "\n",
    "for file_name in [\"F22ProcessedData.csv\", \"S23ProcessedData.csv\", \"F23ProcessedData.csv\", \"S24ProcessedData.csv\"]:\n",
    "    df_i = pd.read_csv(file_name, index_col=False)\n",
    "    df_i = df_i.drop('Unnamed: 0', axis=1)\n",
    "\n",
    "    df_i = df_i.assign(season=file_name[:3]) \n",
    "    df_i=df_i.assign(avg_overall=(df_i['SWE R2 I1: Overall'] + df_i['SWE R2 I2: Overall'])/2)\n",
    "    df_i=df_i.assign(duration_percent=(100*df_i['Duration (Semesters)']/max_duration_dict[file_name[:3]]))\n",
    "\n",
    "    data.append(df_i)\n",
    "\n",
    "frame = pd.concat(data, ignore_index = True, sort=False)\n",
    "\n",
    "assert set(frame.columns) == (columns_total.union(set(['season']), set(['avg_overall']), set(['duration_percent'])) - set(['Unnamed: 0']))"
   ]
  },
  {
   "cell_type": "markdown",
   "id": "f0ef03f5-6f31-4371-852c-aa5f2fddfae2",
   "metadata": {},
   "source": [
    "### Colored Scatterplot"
   ]
  },
  {
   "cell_type": "code",
   "execution_count": 74,
   "id": "ee8db651-fc17-4291-8a6f-5a23b2c24a3c",
   "metadata": {},
   "outputs": [
    {
     "data": {
      "application/vnd.plotly.v1+json": {
       "config": {
        "plotlyServerURL": "https://plot.ly"
       },
       "data": [
        {
         "alignmentgroup": "True",
         "bingroup": "x",
         "hovertemplate": "Accepted?=0<br>SWE R2 I1: Overall=%{x}<br>count=%{y}<extra></extra>",
         "legendgroup": "0",
         "marker": {
          "color": "#636efa",
          "pattern": {
           "shape": ""
          }
         },
         "name": "0",
         "offsetgroup": "0",
         "orientation": "v",
         "showlegend": true,
         "type": "histogram",
         "x": [
          2,
          1,
          1,
          1,
          1,
          1,
          1,
          1,
          1,
          1,
          1,
          4,
          4,
          4,
          4,
          4,
          4,
          3,
          3,
          3,
          3,
          3,
          5,
          5,
          4,
          5,
          4,
          3,
          3,
          0,
          0,
          0,
          3,
          3,
          1,
          1,
          1,
          1,
          1,
          1,
          1,
          1,
          1,
          1,
          1,
          1,
          1,
          1,
          5,
          5,
          5,
          5,
          4,
          4,
          4,
          3,
          0,
          0,
          0,
          0,
          0,
          0,
          0,
          0,
          0,
          0,
          0,
          0,
          0,
          0,
          0,
          0,
          0,
          0,
          0,
          4,
          4,
          4,
          4,
          3,
          3,
          4,
          4,
          3,
          4,
          5,
          1,
          3,
          2,
          1,
          4,
          3,
          0,
          1,
          4,
          4,
          0,
          4,
          4,
          4,
          4,
          0,
          4,
          0,
          4,
          4,
          3,
          4,
          4,
          0,
          4,
          4,
          0,
          4,
          3,
          3,
          3,
          4,
          0,
          0,
          5,
          0,
          0
         ],
         "xaxis": "x",
         "yaxis": "y"
        },
        {
         "alignmentgroup": "True",
         "bingroup": "x",
         "hovertemplate": "Accepted?=1<br>SWE R2 I1: Overall=%{x}<br>count=%{y}<extra></extra>",
         "legendgroup": "1",
         "marker": {
          "color": "#EF553B",
          "pattern": {
           "shape": ""
          }
         },
         "name": "1",
         "offsetgroup": "1",
         "orientation": "v",
         "showlegend": true,
         "type": "histogram",
         "x": [
          5,
          5,
          5,
          5,
          5,
          5,
          5,
          5,
          5,
          5,
          5,
          5,
          5,
          4,
          4,
          4,
          3,
          3,
          5,
          5,
          5,
          5,
          5,
          5,
          5,
          5,
          5,
          4,
          4,
          4,
          4,
          4,
          3,
          3,
          3,
          4,
          1,
          0,
          5,
          5,
          4,
          5,
          5,
          5,
          5,
          5,
          5,
          4,
          4,
          3,
          5,
          5,
          5,
          5,
          4,
          5,
          4,
          4,
          4,
          5,
          4,
          4,
          5,
          5,
          4,
          5,
          4,
          4,
          4,
          5,
          4,
          5,
          5,
          4,
          5,
          4,
          0
         ],
         "xaxis": "x",
         "yaxis": "y"
        }
       ],
       "layout": {
        "barmode": "relative",
        "legend": {
         "title": {
          "text": "Accepted?"
         },
         "tracegroupgap": 0
        },
        "margin": {
         "t": 60
        },
        "template": {
         "data": {
          "bar": [
           {
            "error_x": {
             "color": "#2a3f5f"
            },
            "error_y": {
             "color": "#2a3f5f"
            },
            "marker": {
             "line": {
              "color": "#E5ECF6",
              "width": 0.5
             },
             "pattern": {
              "fillmode": "overlay",
              "size": 10,
              "solidity": 0.2
             }
            },
            "type": "bar"
           }
          ],
          "barpolar": [
           {
            "marker": {
             "line": {
              "color": "#E5ECF6",
              "width": 0.5
             },
             "pattern": {
              "fillmode": "overlay",
              "size": 10,
              "solidity": 0.2
             }
            },
            "type": "barpolar"
           }
          ],
          "carpet": [
           {
            "aaxis": {
             "endlinecolor": "#2a3f5f",
             "gridcolor": "white",
             "linecolor": "white",
             "minorgridcolor": "white",
             "startlinecolor": "#2a3f5f"
            },
            "baxis": {
             "endlinecolor": "#2a3f5f",
             "gridcolor": "white",
             "linecolor": "white",
             "minorgridcolor": "white",
             "startlinecolor": "#2a3f5f"
            },
            "type": "carpet"
           }
          ],
          "choropleth": [
           {
            "colorbar": {
             "outlinewidth": 0,
             "ticks": ""
            },
            "type": "choropleth"
           }
          ],
          "contour": [
           {
            "colorbar": {
             "outlinewidth": 0,
             "ticks": ""
            },
            "colorscale": [
             [
              0,
              "#0d0887"
             ],
             [
              0.1111111111111111,
              "#46039f"
             ],
             [
              0.2222222222222222,
              "#7201a8"
             ],
             [
              0.3333333333333333,
              "#9c179e"
             ],
             [
              0.4444444444444444,
              "#bd3786"
             ],
             [
              0.5555555555555556,
              "#d8576b"
             ],
             [
              0.6666666666666666,
              "#ed7953"
             ],
             [
              0.7777777777777778,
              "#fb9f3a"
             ],
             [
              0.8888888888888888,
              "#fdca26"
             ],
             [
              1,
              "#f0f921"
             ]
            ],
            "type": "contour"
           }
          ],
          "contourcarpet": [
           {
            "colorbar": {
             "outlinewidth": 0,
             "ticks": ""
            },
            "type": "contourcarpet"
           }
          ],
          "heatmap": [
           {
            "colorbar": {
             "outlinewidth": 0,
             "ticks": ""
            },
            "colorscale": [
             [
              0,
              "#0d0887"
             ],
             [
              0.1111111111111111,
              "#46039f"
             ],
             [
              0.2222222222222222,
              "#7201a8"
             ],
             [
              0.3333333333333333,
              "#9c179e"
             ],
             [
              0.4444444444444444,
              "#bd3786"
             ],
             [
              0.5555555555555556,
              "#d8576b"
             ],
             [
              0.6666666666666666,
              "#ed7953"
             ],
             [
              0.7777777777777778,
              "#fb9f3a"
             ],
             [
              0.8888888888888888,
              "#fdca26"
             ],
             [
              1,
              "#f0f921"
             ]
            ],
            "type": "heatmap"
           }
          ],
          "heatmapgl": [
           {
            "colorbar": {
             "outlinewidth": 0,
             "ticks": ""
            },
            "colorscale": [
             [
              0,
              "#0d0887"
             ],
             [
              0.1111111111111111,
              "#46039f"
             ],
             [
              0.2222222222222222,
              "#7201a8"
             ],
             [
              0.3333333333333333,
              "#9c179e"
             ],
             [
              0.4444444444444444,
              "#bd3786"
             ],
             [
              0.5555555555555556,
              "#d8576b"
             ],
             [
              0.6666666666666666,
              "#ed7953"
             ],
             [
              0.7777777777777778,
              "#fb9f3a"
             ],
             [
              0.8888888888888888,
              "#fdca26"
             ],
             [
              1,
              "#f0f921"
             ]
            ],
            "type": "heatmapgl"
           }
          ],
          "histogram": [
           {
            "marker": {
             "pattern": {
              "fillmode": "overlay",
              "size": 10,
              "solidity": 0.2
             }
            },
            "type": "histogram"
           }
          ],
          "histogram2d": [
           {
            "colorbar": {
             "outlinewidth": 0,
             "ticks": ""
            },
            "colorscale": [
             [
              0,
              "#0d0887"
             ],
             [
              0.1111111111111111,
              "#46039f"
             ],
             [
              0.2222222222222222,
              "#7201a8"
             ],
             [
              0.3333333333333333,
              "#9c179e"
             ],
             [
              0.4444444444444444,
              "#bd3786"
             ],
             [
              0.5555555555555556,
              "#d8576b"
             ],
             [
              0.6666666666666666,
              "#ed7953"
             ],
             [
              0.7777777777777778,
              "#fb9f3a"
             ],
             [
              0.8888888888888888,
              "#fdca26"
             ],
             [
              1,
              "#f0f921"
             ]
            ],
            "type": "histogram2d"
           }
          ],
          "histogram2dcontour": [
           {
            "colorbar": {
             "outlinewidth": 0,
             "ticks": ""
            },
            "colorscale": [
             [
              0,
              "#0d0887"
             ],
             [
              0.1111111111111111,
              "#46039f"
             ],
             [
              0.2222222222222222,
              "#7201a8"
             ],
             [
              0.3333333333333333,
              "#9c179e"
             ],
             [
              0.4444444444444444,
              "#bd3786"
             ],
             [
              0.5555555555555556,
              "#d8576b"
             ],
             [
              0.6666666666666666,
              "#ed7953"
             ],
             [
              0.7777777777777778,
              "#fb9f3a"
             ],
             [
              0.8888888888888888,
              "#fdca26"
             ],
             [
              1,
              "#f0f921"
             ]
            ],
            "type": "histogram2dcontour"
           }
          ],
          "mesh3d": [
           {
            "colorbar": {
             "outlinewidth": 0,
             "ticks": ""
            },
            "type": "mesh3d"
           }
          ],
          "parcoords": [
           {
            "line": {
             "colorbar": {
              "outlinewidth": 0,
              "ticks": ""
             }
            },
            "type": "parcoords"
           }
          ],
          "pie": [
           {
            "automargin": true,
            "type": "pie"
           }
          ],
          "scatter": [
           {
            "fillpattern": {
             "fillmode": "overlay",
             "size": 10,
             "solidity": 0.2
            },
            "type": "scatter"
           }
          ],
          "scatter3d": [
           {
            "line": {
             "colorbar": {
              "outlinewidth": 0,
              "ticks": ""
             }
            },
            "marker": {
             "colorbar": {
              "outlinewidth": 0,
              "ticks": ""
             }
            },
            "type": "scatter3d"
           }
          ],
          "scattercarpet": [
           {
            "marker": {
             "colorbar": {
              "outlinewidth": 0,
              "ticks": ""
             }
            },
            "type": "scattercarpet"
           }
          ],
          "scattergeo": [
           {
            "marker": {
             "colorbar": {
              "outlinewidth": 0,
              "ticks": ""
             }
            },
            "type": "scattergeo"
           }
          ],
          "scattergl": [
           {
            "marker": {
             "colorbar": {
              "outlinewidth": 0,
              "ticks": ""
             }
            },
            "type": "scattergl"
           }
          ],
          "scattermapbox": [
           {
            "marker": {
             "colorbar": {
              "outlinewidth": 0,
              "ticks": ""
             }
            },
            "type": "scattermapbox"
           }
          ],
          "scatterpolar": [
           {
            "marker": {
             "colorbar": {
              "outlinewidth": 0,
              "ticks": ""
             }
            },
            "type": "scatterpolar"
           }
          ],
          "scatterpolargl": [
           {
            "marker": {
             "colorbar": {
              "outlinewidth": 0,
              "ticks": ""
             }
            },
            "type": "scatterpolargl"
           }
          ],
          "scatterternary": [
           {
            "marker": {
             "colorbar": {
              "outlinewidth": 0,
              "ticks": ""
             }
            },
            "type": "scatterternary"
           }
          ],
          "surface": [
           {
            "colorbar": {
             "outlinewidth": 0,
             "ticks": ""
            },
            "colorscale": [
             [
              0,
              "#0d0887"
             ],
             [
              0.1111111111111111,
              "#46039f"
             ],
             [
              0.2222222222222222,
              "#7201a8"
             ],
             [
              0.3333333333333333,
              "#9c179e"
             ],
             [
              0.4444444444444444,
              "#bd3786"
             ],
             [
              0.5555555555555556,
              "#d8576b"
             ],
             [
              0.6666666666666666,
              "#ed7953"
             ],
             [
              0.7777777777777778,
              "#fb9f3a"
             ],
             [
              0.8888888888888888,
              "#fdca26"
             ],
             [
              1,
              "#f0f921"
             ]
            ],
            "type": "surface"
           }
          ],
          "table": [
           {
            "cells": {
             "fill": {
              "color": "#EBF0F8"
             },
             "line": {
              "color": "white"
             }
            },
            "header": {
             "fill": {
              "color": "#C8D4E3"
             },
             "line": {
              "color": "white"
             }
            },
            "type": "table"
           }
          ]
         },
         "layout": {
          "annotationdefaults": {
           "arrowcolor": "#2a3f5f",
           "arrowhead": 0,
           "arrowwidth": 1
          },
          "autotypenumbers": "strict",
          "coloraxis": {
           "colorbar": {
            "outlinewidth": 0,
            "ticks": ""
           }
          },
          "colorscale": {
           "diverging": [
            [
             0,
             "#8e0152"
            ],
            [
             0.1,
             "#c51b7d"
            ],
            [
             0.2,
             "#de77ae"
            ],
            [
             0.3,
             "#f1b6da"
            ],
            [
             0.4,
             "#fde0ef"
            ],
            [
             0.5,
             "#f7f7f7"
            ],
            [
             0.6,
             "#e6f5d0"
            ],
            [
             0.7,
             "#b8e186"
            ],
            [
             0.8,
             "#7fbc41"
            ],
            [
             0.9,
             "#4d9221"
            ],
            [
             1,
             "#276419"
            ]
           ],
           "sequential": [
            [
             0,
             "#0d0887"
            ],
            [
             0.1111111111111111,
             "#46039f"
            ],
            [
             0.2222222222222222,
             "#7201a8"
            ],
            [
             0.3333333333333333,
             "#9c179e"
            ],
            [
             0.4444444444444444,
             "#bd3786"
            ],
            [
             0.5555555555555556,
             "#d8576b"
            ],
            [
             0.6666666666666666,
             "#ed7953"
            ],
            [
             0.7777777777777778,
             "#fb9f3a"
            ],
            [
             0.8888888888888888,
             "#fdca26"
            ],
            [
             1,
             "#f0f921"
            ]
           ],
           "sequentialminus": [
            [
             0,
             "#0d0887"
            ],
            [
             0.1111111111111111,
             "#46039f"
            ],
            [
             0.2222222222222222,
             "#7201a8"
            ],
            [
             0.3333333333333333,
             "#9c179e"
            ],
            [
             0.4444444444444444,
             "#bd3786"
            ],
            [
             0.5555555555555556,
             "#d8576b"
            ],
            [
             0.6666666666666666,
             "#ed7953"
            ],
            [
             0.7777777777777778,
             "#fb9f3a"
            ],
            [
             0.8888888888888888,
             "#fdca26"
            ],
            [
             1,
             "#f0f921"
            ]
           ]
          },
          "colorway": [
           "#636efa",
           "#EF553B",
           "#00cc96",
           "#ab63fa",
           "#FFA15A",
           "#19d3f3",
           "#FF6692",
           "#B6E880",
           "#FF97FF",
           "#FECB52"
          ],
          "font": {
           "color": "#2a3f5f"
          },
          "geo": {
           "bgcolor": "white",
           "lakecolor": "white",
           "landcolor": "#E5ECF6",
           "showlakes": true,
           "showland": true,
           "subunitcolor": "white"
          },
          "hoverlabel": {
           "align": "left"
          },
          "hovermode": "closest",
          "mapbox": {
           "style": "light"
          },
          "paper_bgcolor": "white",
          "plot_bgcolor": "#E5ECF6",
          "polar": {
           "angularaxis": {
            "gridcolor": "white",
            "linecolor": "white",
            "ticks": ""
           },
           "bgcolor": "#E5ECF6",
           "radialaxis": {
            "gridcolor": "white",
            "linecolor": "white",
            "ticks": ""
           }
          },
          "scene": {
           "xaxis": {
            "backgroundcolor": "#E5ECF6",
            "gridcolor": "white",
            "gridwidth": 2,
            "linecolor": "white",
            "showbackground": true,
            "ticks": "",
            "zerolinecolor": "white"
           },
           "yaxis": {
            "backgroundcolor": "#E5ECF6",
            "gridcolor": "white",
            "gridwidth": 2,
            "linecolor": "white",
            "showbackground": true,
            "ticks": "",
            "zerolinecolor": "white"
           },
           "zaxis": {
            "backgroundcolor": "#E5ECF6",
            "gridcolor": "white",
            "gridwidth": 2,
            "linecolor": "white",
            "showbackground": true,
            "ticks": "",
            "zerolinecolor": "white"
           }
          },
          "shapedefaults": {
           "line": {
            "color": "#2a3f5f"
           }
          },
          "ternary": {
           "aaxis": {
            "gridcolor": "white",
            "linecolor": "white",
            "ticks": ""
           },
           "baxis": {
            "gridcolor": "white",
            "linecolor": "white",
            "ticks": ""
           },
           "bgcolor": "#E5ECF6",
           "caxis": {
            "gridcolor": "white",
            "linecolor": "white",
            "ticks": ""
           }
          },
          "title": {
           "x": 0.05
          },
          "xaxis": {
           "automargin": true,
           "gridcolor": "white",
           "linecolor": "white",
           "ticks": "",
           "title": {
            "standoff": 15
           },
           "zerolinecolor": "white",
           "zerolinewidth": 2
          },
          "yaxis": {
           "automargin": true,
           "gridcolor": "white",
           "linecolor": "white",
           "ticks": "",
           "title": {
            "standoff": 15
           },
           "zerolinecolor": "white",
           "zerolinewidth": 2
          }
         }
        },
        "xaxis": {
         "anchor": "y",
         "domain": [
          0,
          1
         ],
         "title": {
          "text": "SWE R2 I1: Overall"
         }
        },
        "yaxis": {
         "anchor": "x",
         "domain": [
          0,
          1
         ],
         "title": {
          "text": "count"
         }
        }
       }
      }
     },
     "metadata": {},
     "output_type": "display_data"
    },
    {
     "name": "stdout",
     "output_type": "stream",
     "text": [
      "percent accepted with score 0 : 5.882352941176471\n",
      "percent accepted with score 1 : 3.5714285714285716\n",
      "percent accepted with score 2 : 0.0\n",
      "percent accepted with score 3 : 24.0\n",
      "percent accepted with score 4 : 42.3728813559322\n",
      "percent accepted with score 5 : 82.6923076923077\n"
     ]
    },
    {
     "data": {
      "application/vnd.plotly.v1+json": {
       "config": {
        "plotlyServerURL": "https://plot.ly"
       },
       "data": [
        {
         "alignmentgroup": "True",
         "bingroup": "x",
         "hovertemplate": "Accepted?=0<br>SWE R2 I2: Overall=%{x}<br>count=%{y}<extra></extra>",
         "legendgroup": "0",
         "marker": {
          "color": "#636efa",
          "pattern": {
           "shape": ""
          }
         },
         "name": "0",
         "offsetgroup": "0",
         "orientation": "v",
         "showlegend": true,
         "type": "histogram",
         "x": [
          0,
          0,
          0,
          0,
          0,
          0,
          0,
          0,
          0,
          1,
          1,
          5,
          4,
          4,
          4,
          3,
          3,
          0,
          4,
          3,
          3,
          3,
          0,
          5,
          3,
          5,
          4,
          4,
          3,
          0,
          0,
          0,
          4,
          2,
          0,
          0,
          0,
          0,
          0,
          0,
          0,
          0,
          0,
          0,
          0,
          1,
          1,
          1,
          5,
          4,
          4,
          3,
          4,
          4,
          4,
          4,
          0,
          0,
          0,
          0,
          0,
          0,
          0,
          0,
          0,
          0,
          0,
          0,
          0,
          0,
          0,
          0,
          0,
          0,
          0,
          3,
          4,
          4,
          4,
          4,
          4,
          4,
          4,
          4,
          3,
          4,
          1,
          3,
          3,
          1,
          3,
          2,
          0,
          1,
          5,
          4,
          0,
          3,
          4,
          4,
          5,
          0,
          4,
          0,
          4,
          4,
          4,
          4,
          3,
          0,
          4,
          4,
          0,
          4,
          3,
          4,
          3,
          4,
          0,
          0,
          4,
          0,
          0
         ],
         "xaxis": "x",
         "yaxis": "y"
        },
        {
         "alignmentgroup": "True",
         "bingroup": "x",
         "hovertemplate": "Accepted?=1<br>SWE R2 I2: Overall=%{x}<br>count=%{y}<extra></extra>",
         "legendgroup": "1",
         "marker": {
          "color": "#EF553B",
          "pattern": {
           "shape": ""
          }
         },
         "name": "1",
         "offsetgroup": "1",
         "orientation": "v",
         "showlegend": true,
         "type": "histogram",
         "x": [
          0,
          0,
          0,
          5,
          5,
          5,
          5,
          5,
          5,
          5,
          4,
          3,
          3,
          0,
          4,
          4,
          3,
          3,
          5,
          5,
          5,
          5,
          5,
          5,
          4,
          4,
          3,
          5,
          4,
          4,
          4,
          3,
          4,
          4,
          3,
          2,
          0,
          0,
          4,
          5,
          3,
          4,
          4,
          4,
          5,
          5,
          5,
          4,
          4,
          3,
          4,
          4,
          4,
          5,
          4,
          5,
          4,
          4,
          4,
          5,
          4,
          4,
          5,
          5,
          5,
          5,
          4,
          4,
          4,
          4,
          4,
          4,
          4,
          5,
          4,
          5,
          0
         ],
         "xaxis": "x",
         "yaxis": "y"
        }
       ],
       "layout": {
        "barmode": "relative",
        "legend": {
         "title": {
          "text": "Accepted?"
         },
         "tracegroupgap": 0
        },
        "margin": {
         "t": 60
        },
        "template": {
         "data": {
          "bar": [
           {
            "error_x": {
             "color": "#2a3f5f"
            },
            "error_y": {
             "color": "#2a3f5f"
            },
            "marker": {
             "line": {
              "color": "#E5ECF6",
              "width": 0.5
             },
             "pattern": {
              "fillmode": "overlay",
              "size": 10,
              "solidity": 0.2
             }
            },
            "type": "bar"
           }
          ],
          "barpolar": [
           {
            "marker": {
             "line": {
              "color": "#E5ECF6",
              "width": 0.5
             },
             "pattern": {
              "fillmode": "overlay",
              "size": 10,
              "solidity": 0.2
             }
            },
            "type": "barpolar"
           }
          ],
          "carpet": [
           {
            "aaxis": {
             "endlinecolor": "#2a3f5f",
             "gridcolor": "white",
             "linecolor": "white",
             "minorgridcolor": "white",
             "startlinecolor": "#2a3f5f"
            },
            "baxis": {
             "endlinecolor": "#2a3f5f",
             "gridcolor": "white",
             "linecolor": "white",
             "minorgridcolor": "white",
             "startlinecolor": "#2a3f5f"
            },
            "type": "carpet"
           }
          ],
          "choropleth": [
           {
            "colorbar": {
             "outlinewidth": 0,
             "ticks": ""
            },
            "type": "choropleth"
           }
          ],
          "contour": [
           {
            "colorbar": {
             "outlinewidth": 0,
             "ticks": ""
            },
            "colorscale": [
             [
              0,
              "#0d0887"
             ],
             [
              0.1111111111111111,
              "#46039f"
             ],
             [
              0.2222222222222222,
              "#7201a8"
             ],
             [
              0.3333333333333333,
              "#9c179e"
             ],
             [
              0.4444444444444444,
              "#bd3786"
             ],
             [
              0.5555555555555556,
              "#d8576b"
             ],
             [
              0.6666666666666666,
              "#ed7953"
             ],
             [
              0.7777777777777778,
              "#fb9f3a"
             ],
             [
              0.8888888888888888,
              "#fdca26"
             ],
             [
              1,
              "#f0f921"
             ]
            ],
            "type": "contour"
           }
          ],
          "contourcarpet": [
           {
            "colorbar": {
             "outlinewidth": 0,
             "ticks": ""
            },
            "type": "contourcarpet"
           }
          ],
          "heatmap": [
           {
            "colorbar": {
             "outlinewidth": 0,
             "ticks": ""
            },
            "colorscale": [
             [
              0,
              "#0d0887"
             ],
             [
              0.1111111111111111,
              "#46039f"
             ],
             [
              0.2222222222222222,
              "#7201a8"
             ],
             [
              0.3333333333333333,
              "#9c179e"
             ],
             [
              0.4444444444444444,
              "#bd3786"
             ],
             [
              0.5555555555555556,
              "#d8576b"
             ],
             [
              0.6666666666666666,
              "#ed7953"
             ],
             [
              0.7777777777777778,
              "#fb9f3a"
             ],
             [
              0.8888888888888888,
              "#fdca26"
             ],
             [
              1,
              "#f0f921"
             ]
            ],
            "type": "heatmap"
           }
          ],
          "heatmapgl": [
           {
            "colorbar": {
             "outlinewidth": 0,
             "ticks": ""
            },
            "colorscale": [
             [
              0,
              "#0d0887"
             ],
             [
              0.1111111111111111,
              "#46039f"
             ],
             [
              0.2222222222222222,
              "#7201a8"
             ],
             [
              0.3333333333333333,
              "#9c179e"
             ],
             [
              0.4444444444444444,
              "#bd3786"
             ],
             [
              0.5555555555555556,
              "#d8576b"
             ],
             [
              0.6666666666666666,
              "#ed7953"
             ],
             [
              0.7777777777777778,
              "#fb9f3a"
             ],
             [
              0.8888888888888888,
              "#fdca26"
             ],
             [
              1,
              "#f0f921"
             ]
            ],
            "type": "heatmapgl"
           }
          ],
          "histogram": [
           {
            "marker": {
             "pattern": {
              "fillmode": "overlay",
              "size": 10,
              "solidity": 0.2
             }
            },
            "type": "histogram"
           }
          ],
          "histogram2d": [
           {
            "colorbar": {
             "outlinewidth": 0,
             "ticks": ""
            },
            "colorscale": [
             [
              0,
              "#0d0887"
             ],
             [
              0.1111111111111111,
              "#46039f"
             ],
             [
              0.2222222222222222,
              "#7201a8"
             ],
             [
              0.3333333333333333,
              "#9c179e"
             ],
             [
              0.4444444444444444,
              "#bd3786"
             ],
             [
              0.5555555555555556,
              "#d8576b"
             ],
             [
              0.6666666666666666,
              "#ed7953"
             ],
             [
              0.7777777777777778,
              "#fb9f3a"
             ],
             [
              0.8888888888888888,
              "#fdca26"
             ],
             [
              1,
              "#f0f921"
             ]
            ],
            "type": "histogram2d"
           }
          ],
          "histogram2dcontour": [
           {
            "colorbar": {
             "outlinewidth": 0,
             "ticks": ""
            },
            "colorscale": [
             [
              0,
              "#0d0887"
             ],
             [
              0.1111111111111111,
              "#46039f"
             ],
             [
              0.2222222222222222,
              "#7201a8"
             ],
             [
              0.3333333333333333,
              "#9c179e"
             ],
             [
              0.4444444444444444,
              "#bd3786"
             ],
             [
              0.5555555555555556,
              "#d8576b"
             ],
             [
              0.6666666666666666,
              "#ed7953"
             ],
             [
              0.7777777777777778,
              "#fb9f3a"
             ],
             [
              0.8888888888888888,
              "#fdca26"
             ],
             [
              1,
              "#f0f921"
             ]
            ],
            "type": "histogram2dcontour"
           }
          ],
          "mesh3d": [
           {
            "colorbar": {
             "outlinewidth": 0,
             "ticks": ""
            },
            "type": "mesh3d"
           }
          ],
          "parcoords": [
           {
            "line": {
             "colorbar": {
              "outlinewidth": 0,
              "ticks": ""
             }
            },
            "type": "parcoords"
           }
          ],
          "pie": [
           {
            "automargin": true,
            "type": "pie"
           }
          ],
          "scatter": [
           {
            "fillpattern": {
             "fillmode": "overlay",
             "size": 10,
             "solidity": 0.2
            },
            "type": "scatter"
           }
          ],
          "scatter3d": [
           {
            "line": {
             "colorbar": {
              "outlinewidth": 0,
              "ticks": ""
             }
            },
            "marker": {
             "colorbar": {
              "outlinewidth": 0,
              "ticks": ""
             }
            },
            "type": "scatter3d"
           }
          ],
          "scattercarpet": [
           {
            "marker": {
             "colorbar": {
              "outlinewidth": 0,
              "ticks": ""
             }
            },
            "type": "scattercarpet"
           }
          ],
          "scattergeo": [
           {
            "marker": {
             "colorbar": {
              "outlinewidth": 0,
              "ticks": ""
             }
            },
            "type": "scattergeo"
           }
          ],
          "scattergl": [
           {
            "marker": {
             "colorbar": {
              "outlinewidth": 0,
              "ticks": ""
             }
            },
            "type": "scattergl"
           }
          ],
          "scattermapbox": [
           {
            "marker": {
             "colorbar": {
              "outlinewidth": 0,
              "ticks": ""
             }
            },
            "type": "scattermapbox"
           }
          ],
          "scatterpolar": [
           {
            "marker": {
             "colorbar": {
              "outlinewidth": 0,
              "ticks": ""
             }
            },
            "type": "scatterpolar"
           }
          ],
          "scatterpolargl": [
           {
            "marker": {
             "colorbar": {
              "outlinewidth": 0,
              "ticks": ""
             }
            },
            "type": "scatterpolargl"
           }
          ],
          "scatterternary": [
           {
            "marker": {
             "colorbar": {
              "outlinewidth": 0,
              "ticks": ""
             }
            },
            "type": "scatterternary"
           }
          ],
          "surface": [
           {
            "colorbar": {
             "outlinewidth": 0,
             "ticks": ""
            },
            "colorscale": [
             [
              0,
              "#0d0887"
             ],
             [
              0.1111111111111111,
              "#46039f"
             ],
             [
              0.2222222222222222,
              "#7201a8"
             ],
             [
              0.3333333333333333,
              "#9c179e"
             ],
             [
              0.4444444444444444,
              "#bd3786"
             ],
             [
              0.5555555555555556,
              "#d8576b"
             ],
             [
              0.6666666666666666,
              "#ed7953"
             ],
             [
              0.7777777777777778,
              "#fb9f3a"
             ],
             [
              0.8888888888888888,
              "#fdca26"
             ],
             [
              1,
              "#f0f921"
             ]
            ],
            "type": "surface"
           }
          ],
          "table": [
           {
            "cells": {
             "fill": {
              "color": "#EBF0F8"
             },
             "line": {
              "color": "white"
             }
            },
            "header": {
             "fill": {
              "color": "#C8D4E3"
             },
             "line": {
              "color": "white"
             }
            },
            "type": "table"
           }
          ]
         },
         "layout": {
          "annotationdefaults": {
           "arrowcolor": "#2a3f5f",
           "arrowhead": 0,
           "arrowwidth": 1
          },
          "autotypenumbers": "strict",
          "coloraxis": {
           "colorbar": {
            "outlinewidth": 0,
            "ticks": ""
           }
          },
          "colorscale": {
           "diverging": [
            [
             0,
             "#8e0152"
            ],
            [
             0.1,
             "#c51b7d"
            ],
            [
             0.2,
             "#de77ae"
            ],
            [
             0.3,
             "#f1b6da"
            ],
            [
             0.4,
             "#fde0ef"
            ],
            [
             0.5,
             "#f7f7f7"
            ],
            [
             0.6,
             "#e6f5d0"
            ],
            [
             0.7,
             "#b8e186"
            ],
            [
             0.8,
             "#7fbc41"
            ],
            [
             0.9,
             "#4d9221"
            ],
            [
             1,
             "#276419"
            ]
           ],
           "sequential": [
            [
             0,
             "#0d0887"
            ],
            [
             0.1111111111111111,
             "#46039f"
            ],
            [
             0.2222222222222222,
             "#7201a8"
            ],
            [
             0.3333333333333333,
             "#9c179e"
            ],
            [
             0.4444444444444444,
             "#bd3786"
            ],
            [
             0.5555555555555556,
             "#d8576b"
            ],
            [
             0.6666666666666666,
             "#ed7953"
            ],
            [
             0.7777777777777778,
             "#fb9f3a"
            ],
            [
             0.8888888888888888,
             "#fdca26"
            ],
            [
             1,
             "#f0f921"
            ]
           ],
           "sequentialminus": [
            [
             0,
             "#0d0887"
            ],
            [
             0.1111111111111111,
             "#46039f"
            ],
            [
             0.2222222222222222,
             "#7201a8"
            ],
            [
             0.3333333333333333,
             "#9c179e"
            ],
            [
             0.4444444444444444,
             "#bd3786"
            ],
            [
             0.5555555555555556,
             "#d8576b"
            ],
            [
             0.6666666666666666,
             "#ed7953"
            ],
            [
             0.7777777777777778,
             "#fb9f3a"
            ],
            [
             0.8888888888888888,
             "#fdca26"
            ],
            [
             1,
             "#f0f921"
            ]
           ]
          },
          "colorway": [
           "#636efa",
           "#EF553B",
           "#00cc96",
           "#ab63fa",
           "#FFA15A",
           "#19d3f3",
           "#FF6692",
           "#B6E880",
           "#FF97FF",
           "#FECB52"
          ],
          "font": {
           "color": "#2a3f5f"
          },
          "geo": {
           "bgcolor": "white",
           "lakecolor": "white",
           "landcolor": "#E5ECF6",
           "showlakes": true,
           "showland": true,
           "subunitcolor": "white"
          },
          "hoverlabel": {
           "align": "left"
          },
          "hovermode": "closest",
          "mapbox": {
           "style": "light"
          },
          "paper_bgcolor": "white",
          "plot_bgcolor": "#E5ECF6",
          "polar": {
           "angularaxis": {
            "gridcolor": "white",
            "linecolor": "white",
            "ticks": ""
           },
           "bgcolor": "#E5ECF6",
           "radialaxis": {
            "gridcolor": "white",
            "linecolor": "white",
            "ticks": ""
           }
          },
          "scene": {
           "xaxis": {
            "backgroundcolor": "#E5ECF6",
            "gridcolor": "white",
            "gridwidth": 2,
            "linecolor": "white",
            "showbackground": true,
            "ticks": "",
            "zerolinecolor": "white"
           },
           "yaxis": {
            "backgroundcolor": "#E5ECF6",
            "gridcolor": "white",
            "gridwidth": 2,
            "linecolor": "white",
            "showbackground": true,
            "ticks": "",
            "zerolinecolor": "white"
           },
           "zaxis": {
            "backgroundcolor": "#E5ECF6",
            "gridcolor": "white",
            "gridwidth": 2,
            "linecolor": "white",
            "showbackground": true,
            "ticks": "",
            "zerolinecolor": "white"
           }
          },
          "shapedefaults": {
           "line": {
            "color": "#2a3f5f"
           }
          },
          "ternary": {
           "aaxis": {
            "gridcolor": "white",
            "linecolor": "white",
            "ticks": ""
           },
           "baxis": {
            "gridcolor": "white",
            "linecolor": "white",
            "ticks": ""
           },
           "bgcolor": "#E5ECF6",
           "caxis": {
            "gridcolor": "white",
            "linecolor": "white",
            "ticks": ""
           }
          },
          "title": {
           "x": 0.05
          },
          "xaxis": {
           "automargin": true,
           "gridcolor": "white",
           "linecolor": "white",
           "ticks": "",
           "title": {
            "standoff": 15
           },
           "zerolinecolor": "white",
           "zerolinewidth": 2
          },
          "yaxis": {
           "automargin": true,
           "gridcolor": "white",
           "linecolor": "white",
           "ticks": "",
           "title": {
            "standoff": 15
           },
           "zerolinecolor": "white",
           "zerolinewidth": 2
          }
         }
        },
        "xaxis": {
         "anchor": "y",
         "domain": [
          0,
          1
         ],
         "title": {
          "text": "SWE R2 I2: Overall"
         }
        },
        "yaxis": {
         "anchor": "x",
         "domain": [
          0,
          1
         ],
         "title": {
          "text": "count"
         }
        }
       }
      }
     },
     "metadata": {},
     "output_type": "display_data"
    },
    {
     "name": "stdout",
     "output_type": "stream",
     "text": [
      "percent accepted with score 0 : 11.475409836065573\n",
      "percent accepted with score 1 : 0.0\n",
      "percent accepted with score 2 : 33.333333333333336\n",
      "percent accepted with score 3 : 34.61538461538461\n",
      "percent accepted with score 4 : 47.82608695652174\n",
      "percent accepted with score 5 : 81.81818181818181\n",
      "with two fives you have a 88.46153846153847 percent chance of acceptance with 26 total candidates\n"
     ]
    }
   ],
   "source": [
    "#look at influence of overall score on acceptance rates\n",
    "fig = px.histogram(frame, x=\"SWE R2 I1: Overall\", color=\"Accepted?\")\n",
    "fig.show()\n",
    "for score in range(6):\n",
    "    count_accepted = frame[(frame[\"Accepted?\"] == 1) & (frame[\"SWE R2 I1: Overall\"] == score)].shape[0]\n",
    "    percent_accepted = 100*count_accepted/frame[frame[\"SWE R2 I1: Overall\"] == score].shape[0]\n",
    "    print(\"percent accepted with score \" + str(score) + \" : \" + str(percent_accepted))\n",
    "\n",
    "fig = px.histogram(frame, x=\"SWE R2 I2: Overall\", color=\"Accepted?\")\n",
    "fig.show()\n",
    "for score in range(6):\n",
    "    count_accepted = frame[(frame[\"Accepted?\"] == 1) & (frame[\"SWE R2 I2: Overall\"] == score)].shape[0]\n",
    "    percent_accepted = 100*count_accepted/frame[frame[\"SWE R2 I2: Overall\"] == score].shape[0]\n",
    "    print(\"percent accepted with score \" + str(score) + \" : \" + str(percent_accepted))\n",
    "\n",
    "#if both 5s whats your chance of acceptance lol\n",
    "count_accepted = frame[(frame[\"Accepted?\"] == 1) & (frame[\"SWE R2 I1: Overall\"] == 5) & (frame[\"SWE R2 I2: Overall\"] == 5)].shape[0]\n",
    "count_total = frame[(frame[\"SWE R2 I1: Overall\"] == 5) & (frame[\"SWE R2 I2: Overall\"] == 5)].shape[0]\n",
    "percent_accepted = 100*count_accepted/count_total\n",
    "print(\"with two fives you have a \" + str(percent_accepted) + \" percent chance of acceptance with \" + str(count_total) + \" total candidates\")\n",
    "\n",
    "# #look at how distribution of overall scores changes across seasons\n",
    "# fig = px.histogram(frame, x=\"avg_overall\", color=\"season\")\n",
    "# fig.show()\n",
    "\n",
    "# fig = px.histogram(frame, x=\"SWE R2 I1: Overall\", color=\"season\")\n",
    "# fig.show()\n",
    "\n",
    "# fig = px.histogram(frame, x=\"SWE R2 I2: Overall\", color=\"season\")\n",
    "# fig.show()\n",
    "\n",
    "# for season in [\"F22\", \"S23\", \"F23\", \"S24\"]:\n",
    "#     print(\"applicants in \" + str(season) + \": \" + str(frame[(frame[\"season\"] == season)].shape[0]))\n",
    "\n",
    "#overall scores against duration\n",
    "#THIS IS NOT CURRENTLY A RELEVANT MEASURE BC ILLOGICAL COMPARISONS\n",
    "# fig = px.histogram(frame[((frame[\"season\"] == 'F22') | (frame[\"season\"] == 'S23')) & (frame[\"Accepted?\"] == 1)], x=\"avg_overall\", color=\"duration_percent\")\n",
    "# fig.update_xaxes(range=[0, 5])\n",
    "# fig.show()\n"
   ]
  }
 ],
 "metadata": {
  "kernelspec": {
   "display_name": "t4sg_interview",
   "language": "python",
   "name": "python3"
  },
  "language_info": {
   "codemirror_mode": {
    "name": "ipython",
    "version": 3
   },
   "file_extension": ".py",
   "mimetype": "text/x-python",
   "name": "python",
   "nbconvert_exporter": "python",
   "pygments_lexer": "ipython3",
   "version": "3.9.18"
  }
 },
 "nbformat": 4,
 "nbformat_minor": 5
}

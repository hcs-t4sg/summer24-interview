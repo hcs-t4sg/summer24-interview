{
 "cells": [
  {
   "cell_type": "code",
   "execution_count": 2,
   "id": "2ae3c3f1-58bd-4fd9-863b-8b0f11b11b15",
   "metadata": {},
   "outputs": [],
   "source": [
    "import pandas as pd\n",
    "import scipy\n",
    "import numpy as np"
   ]
  },
  {
   "cell_type": "code",
   "execution_count": 23,
   "id": "dc692550-bfd6-4743-8d28-90d1777e35dc",
   "metadata": {},
   "outputs": [
    {
     "name": "stdout",
     "output_type": "stream",
     "text": [
      "Index(['Unnamed: 0', 'R1: Excitement', 'SWE R2 I1: Deliverable',\n",
      "       'SWE R2 I1: Technical Communication', 'SWE R2 I1: Learning Ability',\n",
      "       'SWE R2 I1: Teamwork & Communication', 'SWE R2 I1: Overall',\n",
      "       'SWE R2 I2: Deliverable', 'SWE R2 I2: Technical Communication',\n",
      "       'SWE R2 I2: Learning Ability', 'SWE R2 I2: Teamwork & Communication',\n",
      "       'SWE R2 I2: Overall', 'Accepted?', 'Duration (Semesters)',\n",
      "       'Current Member?'],\n",
      "      dtype='object')\n",
      "Index(['Unnamed: 0', 'R1: Excitement', 'SWE R2 I1: Deliverable',\n",
      "       'SWE R2 I1: Technical Communication', 'SWE R2 I1: Learning Ability',\n",
      "       'SWE R2 I1: Teamwork & Communication', 'SWE R2 I1: Overall',\n",
      "       'SWE R2 I2: Deliverable', 'SWE R2 I2: Technical Communication',\n",
      "       'SWE R2 I2: Learning Ability', 'SWE R2 I2: Teamwork & Communication',\n",
      "       'SWE R2 I2: Overall', 'SWE R2 Status', 'Accepted?',\n",
      "       'Duration (Semesters)', 'Current Member?'],\n",
      "      dtype='object')\n",
      "Index(['Unnamed: 0', 'R1: Excitement', 'R1: Overall', 'R1 Average Score',\n",
      "       'SWE R2 I1: Deliverable', 'SWE R2 I1: Technical Communication',\n",
      "       'SWE R2 I1: Learning Ability', 'SWE R2 I1: Teamwork & Communication',\n",
      "       'SWE R2 I1: Overall', 'SWE R2 I2: Deliverable',\n",
      "       'SWE R2 I2: Technical Communication', 'SWE R2 I2: Learning Ability',\n",
      "       'SWE R2 I2: Teamwork & Communication', 'SWE R2 I2: Overall',\n",
      "       'SWE R2 Average Score', 'SWE Performance Score', 'SWE R2 Status',\n",
      "       'Accepted?', 'Duration (Semesters)', 'Current Member?'],\n",
      "      dtype='object')\n",
      "Index(['Unnamed: 0', 'R1: Excitement', 'R1: Overall',\n",
      "       'SWE R2 I1: Passion/Engagement', 'SWE R2 I1: Deliverable',\n",
      "       'SWE R2 I1: Technical Communication', 'SWE R2 I1: Learning Ability',\n",
      "       'SWE R2 I1: Overall', 'SWE R2 I1: Passion/Engagement.1',\n",
      "       'SWE R2 I2: Deliverable', 'SWE R2 I2: Technical Communication',\n",
      "       'SWE R2 I2: Learning Ability', 'SWE R2 I2: Overall', 'R1 Average Score',\n",
      "       'SWE R2 Average Score', 'SWE R2 Status', 'Accepted?',\n",
      "       'Duration (Semesters)', 'Current Member?'],\n",
      "      dtype='object')\n"
     ]
    }
   ],
   "source": [
    "df = pd.read_csv(\"F22ProcessedData.csv\")\n",
    "print(df.columns)\n",
    "\n",
    "df = pd.read_csv(\"S23ProcessedData.csv\")\n",
    "print(df.columns)\n",
    "\n",
    "df = pd.read_csv(\"F23ProcessedData.csv\")\n",
    "print(df.columns)\n",
    "\n",
    "df = pd.read_csv(\"S24ProcessedData.csv\")\n",
    "print(df.columns)"
   ]
  },
  {
   "cell_type": "markdown",
   "id": "d187bf68-23b2-46f2-b00d-cdb694170d52",
   "metadata": {},
   "source": [
    "## Calculate Correlation Between Interviewing Scores and Accepted"
   ]
  },
  {
   "cell_type": "code",
   "execution_count": 3,
   "id": "ee74877a-3da4-47e7-8e09-7691eaedfb8a",
   "metadata": {},
   "outputs": [],
   "source": [
    "def acceptedAndDurationCorr(file_name):\n",
    "    df = pd.read_csv(file_name)\n",
    "\n",
    "    # List of features\n",
    "    columns_interview = []\n",
    "    for column_i in list(df.columns)[1:]:\n",
    "        columns_interview.append(column_i)\n",
    "        if column_i == 'SWE R2 I2: Overall' or column_i == 'SWE R2 Average Score':\n",
    "            break\n",
    "    \n",
    "    # Found appropriate correlation measure here: https://www.ce.memphis.edu/7012/L17_CategoricalVariableAssociation.pdf \n",
    "    \n",
    "    corr_list = []\n",
    "    for column_i in columns_interview:\n",
    "        corr_list.append((\n",
    "            column_i, \n",
    "            scipy.stats.pointbiserialr(np.array(df[column_i]), np.array(df['Accepted?'])),\n",
    "            scipy.stats.pearsonr(np.array(df[column_i]), np.array(df['Duration (Semesters)'])),\n",
    "        ))\n",
    "\n",
    "    print(\"TOP 5 R Accepted Values\")\n",
    "    corr_list.sort(key = lambda item : item[1].statistic)\n",
    "    \n",
    "    for key, val, val2  in corr_list[-5:]:\n",
    "        print(key, val.statistic)\n",
    "\n",
    "    print(\"TOP 5 R Duration Values\")\n",
    "    corr_list.sort(key = lambda item : item[2].statistic)\n",
    "    \n",
    "    for key, val, val2 in corr_list[-5:]:\n",
    "        print(key, val2.statistic)\n",
    "\n",
    "    print()\n",
    "\n",
    "   "
   ]
  },
  {
   "cell_type": "code",
   "execution_count": 4,
   "id": "859181c6-0a97-4ea7-a8e1-cf65801dadde",
   "metadata": {},
   "outputs": [
    {
     "name": "stdout",
     "output_type": "stream",
     "text": [
      "F22ProcessedData.csv\n",
      "TOP 5 R Accepted Values\n",
      "SWE R2 I1: Deliverable 0.5379823748652963\n",
      "SWE R2 I1: Teamwork & Communication 0.548833100977617\n",
      "SWE R2 I1: Learning Ability 0.5695210740924566\n",
      "SWE R2 I1: Technical Communication 0.6058791811846899\n",
      "SWE R2 I1: Overall 0.6422802539779227\n",
      "TOP 5 R Duration Values\n",
      "SWE R2 I1: Deliverable 0.47523317704262996\n",
      "SWE R2 I1: Learning Ability 0.49340944747388493\n",
      "SWE R2 I1: Teamwork & Communication 0.5267490804694394\n",
      "SWE R2 I1: Technical Communication 0.575128035872991\n",
      "SWE R2 I1: Overall 0.611803405523612\n",
      "\n",
      "S23ProcessedData.csv\n",
      "TOP 5 R Accepted Values\n",
      "SWE R2 I2: Learning Ability 0.5034816842488848\n",
      "SWE R2 I2: Overall 0.5069288611926808\n",
      "SWE R2 I2: Teamwork & Communication 0.5200911513951968\n",
      "SWE R2 I1: Overall 0.5271935748519105\n",
      "SWE R2 I2: Deliverable 0.5327694141696595\n",
      "TOP 5 R Duration Values\n",
      "SWE R2 I2: Learning Ability 0.42035141025478173\n",
      "SWE R2 I2: Deliverable 0.43092853926630714\n",
      "SWE R2 I2: Overall 0.4332510240032247\n",
      "SWE R2 I1: Overall 0.43789953035615203\n",
      "SWE R2 I2: Teamwork & Communication 0.45830112414167956\n",
      "\n",
      "F23ProcessedData.csv\n",
      "TOP 5 R Accepted Values\n",
      "SWE R2 I2: Deliverable 0.6454928065167762\n",
      "SWE R2 I2: Overall 0.6548822518554887\n",
      "SWE R2 I2: Technical Communication 0.6727366976327445\n",
      "SWE R2 I1: Deliverable 0.6745243038232587\n",
      "SWE R2 I1: Overall 0.6820807993641047\n",
      "TOP 5 R Duration Values\n",
      "SWE R2 I1: Deliverable 0.6138857162741049\n",
      "SWE R2 I2: Overall 0.6278340628260894\n",
      "SWE R2 I1: Teamwork & Communication 0.6284382544787369\n",
      "SWE R2 I1: Overall 0.643242209920557\n",
      "SWE R2 I2: Technical Communication 0.6512165317525693\n",
      "\n",
      "S24ProcessedData.csv\n",
      "TOP 5 R Accepted Values\n",
      "SWE R2 I2: Overall 0.3599184020825213\n",
      "SWE R2 I1: Overall 0.3875057305843901\n",
      "SWE R2 I1: Deliverable 0.389171198959616\n",
      "SWE R2 I1: Technical Communication 0.4292715531510685\n",
      "SWE R2 I2: Deliverable 0.4434656396448605\n",
      "TOP 5 R Duration Values\n",
      "SWE R2 I2: Overall 0.3599184020825213\n",
      "SWE R2 I1: Overall 0.3875057305843901\n",
      "SWE R2 I1: Deliverable 0.389171198959616\n",
      "SWE R2 I1: Technical Communication 0.4292715531510685\n",
      "SWE R2 I2: Deliverable 0.4434656396448605\n",
      "\n"
     ]
    }
   ],
   "source": [
    "for file_i in [\"F22ProcessedData.csv\", \"S23ProcessedData.csv\", \"F23ProcessedData.csv\", \"S24ProcessedData.csv\"]:\n",
    "    print(file_i)\n",
    "    acceptedAndDurationCorr(file_name = file_i)\n",
    "    "
   ]
  },
  {
   "cell_type": "markdown",
   "id": "df358982-812d-4b31-9b5a-82c8a60961f3",
   "metadata": {},
   "source": [
    "## Plot Columns Across Years"
   ]
  },
  {
   "cell_type": "markdown",
   "id": "26a3fb9b-f03e-4f49-a932-032bbd243264",
   "metadata": {},
   "source": [
    "### Look at columns in common"
   ]
  },
  {
   "cell_type": "code",
   "execution_count": 32,
   "id": "37aef544-1d79-4f71-98f5-07c0528a7e88",
   "metadata": {},
   "outputs": [
    {
     "name": "stdout",
     "output_type": "stream",
     "text": [
      "In Common across years: {'SWE R2 I2: Technical Communication', 'Duration (Semesters)', 'R1: Excitement', 'Current Member?', 'Unnamed: 0', 'SWE R2 I1: Deliverable', 'SWE R2 I1: Learning Ability', 'SWE R2 I2: Overall', 'SWE R2 I1: Technical Communication', 'SWE R2 I2: Learning Ability', 'SWE R2 I2: Deliverable', 'Accepted?', 'SWE R2 I1: Overall'}\n",
      "Total: {'SWE R2 I2: Teamwork & Communication', 'SWE Performance Score', 'Current Member?', 'R1 Average Score', 'SWE R2 I1: Technical Communication', 'SWE R2 Average Score', 'Accepted?', 'SWE R2 I1: Overall', 'Duration (Semesters)', 'SWE R2 I1: Passion/Engagement.1', 'SWE R2 I1: Teamwork & Communication', 'SWE R2 I2: Overall', 'SWE R2 Status', 'SWE R2 I2: Learning Ability', 'SWE R2 I2: Technical Communication', 'R1: Excitement', 'Unnamed: 0', 'SWE R2 I1: Deliverable', 'SWE R2 I1: Learning Ability', 'R1: Overall', 'SWE R2 I1: Passion/Engagement', 'SWE R2 I2: Deliverable'}\n",
      "Not in every year: {'SWE R2 I2: Teamwork & Communication', 'SWE Performance Score', 'SWE R2 I1: Passion/Engagement.1', 'R1 Average Score', 'SWE R2 I1: Teamwork & Communication', 'SWE R2 Status', 'R1: Overall', 'SWE R2 Average Score', 'SWE R2 I1: Passion/Engagement'}\n"
     ]
    }
   ],
   "source": [
    "from operator import and_, or_\n",
    "from functools import reduce\n",
    "\n",
    "columns_list = []\n",
    "columns_total = set()\n",
    "for file_name in [\"F22ProcessedData.csv\", \"S23ProcessedData.csv\", \"F23ProcessedData.csv\", \"S24ProcessedData.csv\"]:\n",
    "    df_i = pd.read_csv(file_name)\n",
    "    columns_i = list(df_i.columns)\n",
    "\n",
    "    columns_list.append(set(columns_i))\n",
    "    columns_total.update(columns_i)\n",
    "\n",
    "print(\"In Common across years:\", set(reduce(and_, columns_list)) )\n",
    "print(\"Total:\", columns_total)\n",
    "print(\"Not in every year:\", columns_total - set(reduce(and_, columns_list)))"
   ]
  },
  {
   "cell_type": "markdown",
   "id": "47ae3541-b422-477d-bbab-fd23b30bb932",
   "metadata": {},
   "source": [
    "### Combine csvs"
   ]
  },
  {
   "cell_type": "code",
   "execution_count": 62,
   "id": "aa06feeb-6cdf-46e7-8ce4-77785ca69086",
   "metadata": {},
   "outputs": [],
   "source": [
    "data = []\n",
    "\n",
    "for file_name in [\"F22ProcessedData.csv\", \"S23ProcessedData.csv\", \"F23ProcessedData.csv\", \"S24ProcessedData.csv\"]:\n",
    "    df_i = pd.read_csv(file_name, index_col=False)\n",
    "    df_i = df_i.drop('Unnamed: 0', axis=1)\n",
    "\n",
    "    df_i = df_i.assign(season=file_name[:3]) \n",
    "\n",
    "    data.append(df_i)\n",
    "\n",
    "frame = pd.concat(data, ignore_index = True, sort=False)\n",
    "\n",
    "assert set(frame.columns) == (columns_total.union(set(['season'])) - set(['Unnamed: 0']))"
   ]
  },
  {
   "cell_type": "markdown",
   "id": "f0ef03f5-6f31-4371-852c-aa5f2fddfae2",
   "metadata": {},
   "source": [
    "### Colored Scatterplot"
   ]
  },
  {
   "cell_type": "code",
   "execution_count": 65,
   "id": "ee8db651-fc17-4291-8a6f-5a23b2c24a3c",
   "metadata": {},
   "outputs": [
    {
     "data": {
      "application/vnd.plotly.v1+json": {
       "config": {
        "plotlyServerURL": "https://plot.ly"
       },
       "data": [
        {
         "hovertemplate": "season=F22<br>SWE R2 I2: Deliverable=%{x}<br>Accepted?=%{y}<extra></extra>",
         "legendgroup": "F22",
         "marker": {
          "color": "#636efa",
          "symbol": "circle"
         },
         "mode": "markers",
         "name": "F22",
         "orientation": "v",
         "showlegend": true,
         "type": "scatter",
         "x": [
          0,
          0,
          0,
          0,
          0,
          0,
          0,
          0,
          0,
          1,
          0,
          0,
          0,
          0,
          5,
          5,
          5,
          5,
          5,
          5,
          5,
          4,
          4,
          4,
          0,
          4,
          4,
          3,
          4,
          4,
          4,
          4,
          4,
          4,
          4,
          0,
          5,
          2,
          3,
          3,
          0,
          5,
          4
         ],
         "xaxis": "x",
         "y": [
          0,
          0,
          0,
          0,
          0,
          0,
          0,
          0,
          0,
          0,
          0,
          1,
          1,
          1,
          1,
          1,
          1,
          1,
          1,
          1,
          1,
          1,
          1,
          1,
          1,
          1,
          1,
          1,
          1,
          0,
          0,
          0,
          0,
          0,
          0,
          0,
          0,
          0,
          0,
          0,
          0,
          0,
          0
         ],
         "yaxis": "y"
        },
        {
         "hovertemplate": "season=S23<br>SWE R2 I2: Deliverable=%{x}<br>Accepted?=%{y}<extra></extra>",
         "legendgroup": "S23",
         "marker": {
          "color": "#EF553B",
          "symbol": "circle"
         },
         "mode": "markers",
         "name": "S23",
         "orientation": "v",
         "showlegend": true,
         "type": "scatter",
         "x": [
          4,
          5,
          5,
          4,
          5,
          5,
          5,
          4,
          4,
          4,
          5,
          4,
          4,
          4,
          4,
          5,
          4,
          3,
          3,
          4,
          2,
          0,
          0,
          0,
          2,
          4,
          3,
          0,
          0,
          0,
          0,
          0,
          0,
          0,
          0,
          0,
          0,
          0,
          0,
          0,
          1,
          1,
          5,
          4,
          4,
          3,
          4,
          4,
          4,
          4
         ],
         "xaxis": "x",
         "y": [
          1,
          1,
          1,
          1,
          1,
          1,
          0,
          1,
          1,
          1,
          1,
          1,
          1,
          1,
          1,
          1,
          1,
          1,
          0,
          0,
          0,
          0,
          0,
          0,
          1,
          0,
          0,
          0,
          0,
          0,
          0,
          1,
          0,
          0,
          0,
          0,
          0,
          0,
          0,
          0,
          0,
          0,
          0,
          0,
          0,
          0,
          0,
          0,
          0,
          0
         ],
         "yaxis": "y"
        },
        {
         "hovertemplate": "season=F23<br>SWE R2 I2: Deliverable=%{x}<br>Accepted?=%{y}<extra></extra>",
         "legendgroup": "F23",
         "marker": {
          "color": "#00cc96",
          "symbol": "circle"
         },
         "mode": "markers",
         "name": "F23",
         "orientation": "v",
         "showlegend": true,
         "type": "scatter",
         "x": [
          0,
          0,
          0,
          0,
          0,
          0,
          0,
          0,
          0,
          0,
          0,
          0,
          0,
          0,
          0,
          0,
          0,
          0,
          0,
          0,
          4,
          4.5,
          2,
          4.5,
          4,
          3,
          5,
          4,
          4,
          3,
          3,
          2,
          4,
          4,
          3,
          5,
          4,
          5,
          5,
          3,
          2,
          5,
          3,
          3.5,
          5,
          3,
          3,
          2,
          3,
          4,
          5,
          3.5,
          3,
          4,
          2,
          4,
          1,
          2,
          2,
          1,
          2,
          1,
          0,
          1
         ],
         "xaxis": "x",
         "y": [
          0,
          0,
          0,
          0,
          0,
          0,
          0,
          0,
          0,
          0,
          0,
          0,
          0,
          1,
          0,
          0,
          0,
          0,
          0,
          0,
          1,
          1,
          1,
          1,
          1,
          1,
          1,
          1,
          1,
          1,
          1,
          1,
          1,
          1,
          1,
          1,
          1,
          1,
          1,
          1,
          1,
          1,
          1,
          1,
          1,
          0,
          0,
          0,
          0,
          0,
          0,
          0,
          0,
          0,
          0,
          0,
          0,
          0,
          0,
          0,
          0,
          0,
          0,
          0
         ],
         "yaxis": "y"
        },
        {
         "hovertemplate": "season=S24<br>SWE R2 I2: Deliverable=%{x}<br>Accepted?=%{y}<extra></extra>",
         "legendgroup": "S24",
         "marker": {
          "color": "#ab63fa",
          "symbol": "circle"
         },
         "mode": "markers",
         "name": "S24",
         "orientation": "v",
         "showlegend": true,
         "type": "scatter",
         "x": [
          4.5,
          5,
          5,
          0,
          5,
          4,
          5,
          3,
          4,
          5,
          3.5,
          0,
          4,
          3.5,
          5,
          0,
          3,
          4,
          3,
          4.5,
          3,
          0,
          4.5,
          4,
          5,
          5,
          3.5,
          0,
          3,
          3.5,
          5,
          4.5,
          2,
          4.5,
          4.5,
          5,
          0,
          4.5,
          0,
          1,
          0,
          0,
          0
         ],
         "xaxis": "x",
         "y": [
          0,
          0,
          1,
          0,
          1,
          0,
          1,
          0,
          1,
          0,
          0,
          0,
          1,
          0,
          1,
          0,
          0,
          0,
          0,
          0,
          0,
          0,
          1,
          1,
          0,
          1,
          0,
          0,
          0,
          0,
          1,
          0,
          0,
          1,
          0,
          1,
          0,
          1,
          0,
          0,
          0,
          0,
          1
         ],
         "yaxis": "y"
        }
       ],
       "layout": {
        "autosize": true,
        "legend": {
         "title": {
          "text": "season"
         },
         "tracegroupgap": 0
        },
        "margin": {
         "t": 60
        },
        "template": {
         "data": {
          "bar": [
           {
            "error_x": {
             "color": "#2a3f5f"
            },
            "error_y": {
             "color": "#2a3f5f"
            },
            "marker": {
             "line": {
              "color": "#E5ECF6",
              "width": 0.5
             },
             "pattern": {
              "fillmode": "overlay",
              "size": 10,
              "solidity": 0.2
             }
            },
            "type": "bar"
           }
          ],
          "barpolar": [
           {
            "marker": {
             "line": {
              "color": "#E5ECF6",
              "width": 0.5
             },
             "pattern": {
              "fillmode": "overlay",
              "size": 10,
              "solidity": 0.2
             }
            },
            "type": "barpolar"
           }
          ],
          "carpet": [
           {
            "aaxis": {
             "endlinecolor": "#2a3f5f",
             "gridcolor": "white",
             "linecolor": "white",
             "minorgridcolor": "white",
             "startlinecolor": "#2a3f5f"
            },
            "baxis": {
             "endlinecolor": "#2a3f5f",
             "gridcolor": "white",
             "linecolor": "white",
             "minorgridcolor": "white",
             "startlinecolor": "#2a3f5f"
            },
            "type": "carpet"
           }
          ],
          "choropleth": [
           {
            "colorbar": {
             "outlinewidth": 0,
             "ticks": ""
            },
            "type": "choropleth"
           }
          ],
          "contour": [
           {
            "colorbar": {
             "outlinewidth": 0,
             "ticks": ""
            },
            "colorscale": [
             [
              0,
              "#0d0887"
             ],
             [
              0.1111111111111111,
              "#46039f"
             ],
             [
              0.2222222222222222,
              "#7201a8"
             ],
             [
              0.3333333333333333,
              "#9c179e"
             ],
             [
              0.4444444444444444,
              "#bd3786"
             ],
             [
              0.5555555555555556,
              "#d8576b"
             ],
             [
              0.6666666666666666,
              "#ed7953"
             ],
             [
              0.7777777777777778,
              "#fb9f3a"
             ],
             [
              0.8888888888888888,
              "#fdca26"
             ],
             [
              1,
              "#f0f921"
             ]
            ],
            "type": "contour"
           }
          ],
          "contourcarpet": [
           {
            "colorbar": {
             "outlinewidth": 0,
             "ticks": ""
            },
            "type": "contourcarpet"
           }
          ],
          "heatmap": [
           {
            "colorbar": {
             "outlinewidth": 0,
             "ticks": ""
            },
            "colorscale": [
             [
              0,
              "#0d0887"
             ],
             [
              0.1111111111111111,
              "#46039f"
             ],
             [
              0.2222222222222222,
              "#7201a8"
             ],
             [
              0.3333333333333333,
              "#9c179e"
             ],
             [
              0.4444444444444444,
              "#bd3786"
             ],
             [
              0.5555555555555556,
              "#d8576b"
             ],
             [
              0.6666666666666666,
              "#ed7953"
             ],
             [
              0.7777777777777778,
              "#fb9f3a"
             ],
             [
              0.8888888888888888,
              "#fdca26"
             ],
             [
              1,
              "#f0f921"
             ]
            ],
            "type": "heatmap"
           }
          ],
          "heatmapgl": [
           {
            "colorbar": {
             "outlinewidth": 0,
             "ticks": ""
            },
            "colorscale": [
             [
              0,
              "#0d0887"
             ],
             [
              0.1111111111111111,
              "#46039f"
             ],
             [
              0.2222222222222222,
              "#7201a8"
             ],
             [
              0.3333333333333333,
              "#9c179e"
             ],
             [
              0.4444444444444444,
              "#bd3786"
             ],
             [
              0.5555555555555556,
              "#d8576b"
             ],
             [
              0.6666666666666666,
              "#ed7953"
             ],
             [
              0.7777777777777778,
              "#fb9f3a"
             ],
             [
              0.8888888888888888,
              "#fdca26"
             ],
             [
              1,
              "#f0f921"
             ]
            ],
            "type": "heatmapgl"
           }
          ],
          "histogram": [
           {
            "marker": {
             "pattern": {
              "fillmode": "overlay",
              "size": 10,
              "solidity": 0.2
             }
            },
            "type": "histogram"
           }
          ],
          "histogram2d": [
           {
            "colorbar": {
             "outlinewidth": 0,
             "ticks": ""
            },
            "colorscale": [
             [
              0,
              "#0d0887"
             ],
             [
              0.1111111111111111,
              "#46039f"
             ],
             [
              0.2222222222222222,
              "#7201a8"
             ],
             [
              0.3333333333333333,
              "#9c179e"
             ],
             [
              0.4444444444444444,
              "#bd3786"
             ],
             [
              0.5555555555555556,
              "#d8576b"
             ],
             [
              0.6666666666666666,
              "#ed7953"
             ],
             [
              0.7777777777777778,
              "#fb9f3a"
             ],
             [
              0.8888888888888888,
              "#fdca26"
             ],
             [
              1,
              "#f0f921"
             ]
            ],
            "type": "histogram2d"
           }
          ],
          "histogram2dcontour": [
           {
            "colorbar": {
             "outlinewidth": 0,
             "ticks": ""
            },
            "colorscale": [
             [
              0,
              "#0d0887"
             ],
             [
              0.1111111111111111,
              "#46039f"
             ],
             [
              0.2222222222222222,
              "#7201a8"
             ],
             [
              0.3333333333333333,
              "#9c179e"
             ],
             [
              0.4444444444444444,
              "#bd3786"
             ],
             [
              0.5555555555555556,
              "#d8576b"
             ],
             [
              0.6666666666666666,
              "#ed7953"
             ],
             [
              0.7777777777777778,
              "#fb9f3a"
             ],
             [
              0.8888888888888888,
              "#fdca26"
             ],
             [
              1,
              "#f0f921"
             ]
            ],
            "type": "histogram2dcontour"
           }
          ],
          "mesh3d": [
           {
            "colorbar": {
             "outlinewidth": 0,
             "ticks": ""
            },
            "type": "mesh3d"
           }
          ],
          "parcoords": [
           {
            "line": {
             "colorbar": {
              "outlinewidth": 0,
              "ticks": ""
             }
            },
            "type": "parcoords"
           }
          ],
          "pie": [
           {
            "automargin": true,
            "type": "pie"
           }
          ],
          "scatter": [
           {
            "fillpattern": {
             "fillmode": "overlay",
             "size": 10,
             "solidity": 0.2
            },
            "type": "scatter"
           }
          ],
          "scatter3d": [
           {
            "line": {
             "colorbar": {
              "outlinewidth": 0,
              "ticks": ""
             }
            },
            "marker": {
             "colorbar": {
              "outlinewidth": 0,
              "ticks": ""
             }
            },
            "type": "scatter3d"
           }
          ],
          "scattercarpet": [
           {
            "marker": {
             "colorbar": {
              "outlinewidth": 0,
              "ticks": ""
             }
            },
            "type": "scattercarpet"
           }
          ],
          "scattergeo": [
           {
            "marker": {
             "colorbar": {
              "outlinewidth": 0,
              "ticks": ""
             }
            },
            "type": "scattergeo"
           }
          ],
          "scattergl": [
           {
            "marker": {
             "colorbar": {
              "outlinewidth": 0,
              "ticks": ""
             }
            },
            "type": "scattergl"
           }
          ],
          "scattermapbox": [
           {
            "marker": {
             "colorbar": {
              "outlinewidth": 0,
              "ticks": ""
             }
            },
            "type": "scattermapbox"
           }
          ],
          "scatterpolar": [
           {
            "marker": {
             "colorbar": {
              "outlinewidth": 0,
              "ticks": ""
             }
            },
            "type": "scatterpolar"
           }
          ],
          "scatterpolargl": [
           {
            "marker": {
             "colorbar": {
              "outlinewidth": 0,
              "ticks": ""
             }
            },
            "type": "scatterpolargl"
           }
          ],
          "scatterternary": [
           {
            "marker": {
             "colorbar": {
              "outlinewidth": 0,
              "ticks": ""
             }
            },
            "type": "scatterternary"
           }
          ],
          "surface": [
           {
            "colorbar": {
             "outlinewidth": 0,
             "ticks": ""
            },
            "colorscale": [
             [
              0,
              "#0d0887"
             ],
             [
              0.1111111111111111,
              "#46039f"
             ],
             [
              0.2222222222222222,
              "#7201a8"
             ],
             [
              0.3333333333333333,
              "#9c179e"
             ],
             [
              0.4444444444444444,
              "#bd3786"
             ],
             [
              0.5555555555555556,
              "#d8576b"
             ],
             [
              0.6666666666666666,
              "#ed7953"
             ],
             [
              0.7777777777777778,
              "#fb9f3a"
             ],
             [
              0.8888888888888888,
              "#fdca26"
             ],
             [
              1,
              "#f0f921"
             ]
            ],
            "type": "surface"
           }
          ],
          "table": [
           {
            "cells": {
             "fill": {
              "color": "#EBF0F8"
             },
             "line": {
              "color": "white"
             }
            },
            "header": {
             "fill": {
              "color": "#C8D4E3"
             },
             "line": {
              "color": "white"
             }
            },
            "type": "table"
           }
          ]
         },
         "layout": {
          "annotationdefaults": {
           "arrowcolor": "#2a3f5f",
           "arrowhead": 0,
           "arrowwidth": 1
          },
          "autotypenumbers": "strict",
          "coloraxis": {
           "colorbar": {
            "outlinewidth": 0,
            "ticks": ""
           }
          },
          "colorscale": {
           "diverging": [
            [
             0,
             "#8e0152"
            ],
            [
             0.1,
             "#c51b7d"
            ],
            [
             0.2,
             "#de77ae"
            ],
            [
             0.3,
             "#f1b6da"
            ],
            [
             0.4,
             "#fde0ef"
            ],
            [
             0.5,
             "#f7f7f7"
            ],
            [
             0.6,
             "#e6f5d0"
            ],
            [
             0.7,
             "#b8e186"
            ],
            [
             0.8,
             "#7fbc41"
            ],
            [
             0.9,
             "#4d9221"
            ],
            [
             1,
             "#276419"
            ]
           ],
           "sequential": [
            [
             0,
             "#0d0887"
            ],
            [
             0.1111111111111111,
             "#46039f"
            ],
            [
             0.2222222222222222,
             "#7201a8"
            ],
            [
             0.3333333333333333,
             "#9c179e"
            ],
            [
             0.4444444444444444,
             "#bd3786"
            ],
            [
             0.5555555555555556,
             "#d8576b"
            ],
            [
             0.6666666666666666,
             "#ed7953"
            ],
            [
             0.7777777777777778,
             "#fb9f3a"
            ],
            [
             0.8888888888888888,
             "#fdca26"
            ],
            [
             1,
             "#f0f921"
            ]
           ],
           "sequentialminus": [
            [
             0,
             "#0d0887"
            ],
            [
             0.1111111111111111,
             "#46039f"
            ],
            [
             0.2222222222222222,
             "#7201a8"
            ],
            [
             0.3333333333333333,
             "#9c179e"
            ],
            [
             0.4444444444444444,
             "#bd3786"
            ],
            [
             0.5555555555555556,
             "#d8576b"
            ],
            [
             0.6666666666666666,
             "#ed7953"
            ],
            [
             0.7777777777777778,
             "#fb9f3a"
            ],
            [
             0.8888888888888888,
             "#fdca26"
            ],
            [
             1,
             "#f0f921"
            ]
           ]
          },
          "colorway": [
           "#636efa",
           "#EF553B",
           "#00cc96",
           "#ab63fa",
           "#FFA15A",
           "#19d3f3",
           "#FF6692",
           "#B6E880",
           "#FF97FF",
           "#FECB52"
          ],
          "font": {
           "color": "#2a3f5f"
          },
          "geo": {
           "bgcolor": "white",
           "lakecolor": "white",
           "landcolor": "#E5ECF6",
           "showlakes": true,
           "showland": true,
           "subunitcolor": "white"
          },
          "hoverlabel": {
           "align": "left"
          },
          "hovermode": "closest",
          "mapbox": {
           "style": "light"
          },
          "paper_bgcolor": "white",
          "plot_bgcolor": "#E5ECF6",
          "polar": {
           "angularaxis": {
            "gridcolor": "white",
            "linecolor": "white",
            "ticks": ""
           },
           "bgcolor": "#E5ECF6",
           "radialaxis": {
            "gridcolor": "white",
            "linecolor": "white",
            "ticks": ""
           }
          },
          "scene": {
           "xaxis": {
            "backgroundcolor": "#E5ECF6",
            "gridcolor": "white",
            "gridwidth": 2,
            "linecolor": "white",
            "showbackground": true,
            "ticks": "",
            "zerolinecolor": "white"
           },
           "yaxis": {
            "backgroundcolor": "#E5ECF6",
            "gridcolor": "white",
            "gridwidth": 2,
            "linecolor": "white",
            "showbackground": true,
            "ticks": "",
            "zerolinecolor": "white"
           },
           "zaxis": {
            "backgroundcolor": "#E5ECF6",
            "gridcolor": "white",
            "gridwidth": 2,
            "linecolor": "white",
            "showbackground": true,
            "ticks": "",
            "zerolinecolor": "white"
           }
          },
          "shapedefaults": {
           "line": {
            "color": "#2a3f5f"
           }
          },
          "ternary": {
           "aaxis": {
            "gridcolor": "white",
            "linecolor": "white",
            "ticks": ""
           },
           "baxis": {
            "gridcolor": "white",
            "linecolor": "white",
            "ticks": ""
           },
           "bgcolor": "#E5ECF6",
           "caxis": {
            "gridcolor": "white",
            "linecolor": "white",
            "ticks": ""
           }
          },
          "title": {
           "x": 0.05
          },
          "xaxis": {
           "automargin": true,
           "gridcolor": "white",
           "linecolor": "white",
           "ticks": "",
           "title": {
            "standoff": 15
           },
           "zerolinecolor": "white",
           "zerolinewidth": 2
          },
          "yaxis": {
           "automargin": true,
           "gridcolor": "white",
           "linecolor": "white",
           "ticks": "",
           "title": {
            "standoff": 15
           },
           "zerolinecolor": "white",
           "zerolinewidth": 2
          }
         }
        },
        "xaxis": {
         "anchor": "y",
         "autorange": true,
         "domain": [
          0,
          1
         ],
         "range": [
          -0.30267718417592926,
          5.302677184175929
         ],
         "title": {
          "text": "SWE R2 I2: Deliverable"
         },
         "type": "linear"
        },
        "yaxis": {
         "anchor": "x",
         "autorange": true,
         "domain": [
          0,
          1
         ],
         "range": [
          -0.0774278215223097,
          1.0774278215223096
         ],
         "title": {
          "text": "Accepted?"
         },
         "type": "linear"
        }
       }
      },
      "image/png": "[encoded data removed]",
      "text/html": [
       "<div>                            <div id=\"e32cdcbd-4b85-4f7c-9d68-4fa888fc37a6\" class=\"plotly-graph-div\" style=\"height:525px; width:100%;\"></div>            <script type=\"text/javascript\">                require([\"plotly\"], function(Plotly) {                    window.PLOTLYENV=window.PLOTLYENV || {};                                    if (document.getElementById(\"e32cdcbd-4b85-4f7c-9d68-4fa888fc37a6\")) {                    Plotly.newPlot(                        \"e32cdcbd-4b85-4f7c-9d68-4fa888fc37a6\",                        [{\"hovertemplate\":\"season=F22\\u003cbr\\u003eSWE R2 I2: Deliverable=%{x}\\u003cbr\\u003eAccepted?=%{y}\\u003cextra\\u003e\\u003c\\u002fextra\\u003e\",\"legendgroup\":\"F22\",\"marker\":{\"color\":\"#636efa\",\"symbol\":\"circle\"},\"mode\":\"markers\",\"name\":\"F22\",\"orientation\":\"v\",\"showlegend\":true,\"x\":[0.0,0.0,0.0,0.0,0.0,0.0,0.0,0.0,0.0,1.0,0.0,0.0,0.0,0.0,5.0,5.0,5.0,5.0,5.0,5.0,5.0,4.0,4.0,4.0,0.0,4.0,4.0,3.0,4.0,4.0,4.0,4.0,4.0,4.0,4.0,0.0,5.0,2.0,3.0,3.0,0.0,5.0,4.0],\"xaxis\":\"x\",\"y\":[0,0,0,0,0,0,0,0,0,0,0,1,1,1,1,1,1,1,1,1,1,1,1,1,1,1,1,1,1,0,0,0,0,0,0,0,0,0,0,0,0,0,0],\"yaxis\":\"y\",\"type\":\"scatter\"},{\"hovertemplate\":\"season=S23\\u003cbr\\u003eSWE R2 I2: Deliverable=%{x}\\u003cbr\\u003eAccepted?=%{y}\\u003cextra\\u003e\\u003c\\u002fextra\\u003e\",\"legendgroup\":\"S23\",\"marker\":{\"color\":\"#EF553B\",\"symbol\":\"circle\"},\"mode\":\"markers\",\"name\":\"S23\",\"orientation\":\"v\",\"showlegend\":true,\"x\":[4.0,5.0,5.0,4.0,5.0,5.0,5.0,4.0,4.0,4.0,5.0,4.0,4.0,4.0,4.0,5.0,4.0,3.0,3.0,4.0,2.0,0.0,0.0,0.0,2.0,4.0,3.0,0.0,0.0,0.0,0.0,0.0,0.0,0.0,0.0,0.0,0.0,0.0,0.0,0.0,1.0,1.0,5.0,4.0,4.0,3.0,4.0,4.0,4.0,4.0],\"xaxis\":\"x\",\"y\":[1,1,1,1,1,1,0,1,1,1,1,1,1,1,1,1,1,1,0,0,0,0,0,0,1,0,0,0,0,0,0,1,0,0,0,0,0,0,0,0,0,0,0,0,0,0,0,0,0,0],\"yaxis\":\"y\",\"type\":\"scatter\"},{\"hovertemplate\":\"season=F23\\u003cbr\\u003eSWE R2 I2: Deliverable=%{x}\\u003cbr\\u003eAccepted?=%{y}\\u003cextra\\u003e\\u003c\\u002fextra\\u003e\",\"legendgroup\":\"F23\",\"marker\":{\"color\":\"#00cc96\",\"symbol\":\"circle\"},\"mode\":\"markers\",\"name\":\"F23\",\"orientation\":\"v\",\"showlegend\":true,\"x\":[0.0,0.0,0.0,0.0,0.0,0.0,0.0,0.0,0.0,0.0,0.0,0.0,0.0,0.0,0.0,0.0,0.0,0.0,0.0,0.0,4.0,4.5,2.0,4.5,4.0,3.0,5.0,4.0,4.0,3.0,3.0,2.0,4.0,4.0,3.0,5.0,4.0,5.0,5.0,3.0,2.0,5.0,3.0,3.5,5.0,3.0,3.0,2.0,3.0,4.0,5.0,3.5,3.0,4.0,2.0,4.0,1.0,2.0,2.0,1.0,2.0,1.0,0.0,1.0],\"xaxis\":\"x\",\"y\":[0,0,0,0,0,0,0,0,0,0,0,0,0,1,0,0,0,0,0,0,1,1,1,1,1,1,1,1,1,1,1,1,1,1,1,1,1,1,1,1,1,1,1,1,1,0,0,0,0,0,0,0,0,0,0,0,0,0,0,0,0,0,0,0],\"yaxis\":\"y\",\"type\":\"scatter\"},{\"hovertemplate\":\"season=S24\\u003cbr\\u003eSWE R2 I2: Deliverable=%{x}\\u003cbr\\u003eAccepted?=%{y}\\u003cextra\\u003e\\u003c\\u002fextra\\u003e\",\"legendgroup\":\"S24\",\"marker\":{\"color\":\"#ab63fa\",\"symbol\":\"circle\"},\"mode\":\"markers\",\"name\":\"S24\",\"orientation\":\"v\",\"showlegend\":true,\"x\":[4.5,5.0,5.0,0.0,5.0,4.0,5.0,3.0,4.0,5.0,3.5,0.0,4.0,3.5,5.0,0.0,3.0,4.0,3.0,4.5,3.0,0.0,4.5,4.0,5.0,5.0,3.5,0.0,3.0,3.5,5.0,4.5,2.0,4.5,4.5,5.0,0.0,4.5,0.0,1.0,0.0,0.0,0.0],\"xaxis\":\"x\",\"y\":[0,0,1,0,1,0,1,0,1,0,0,0,1,0,1,0,0,0,0,0,0,0,1,1,0,1,0,0,0,0,1,0,0,1,0,1,0,1,0,0,0,0,1],\"yaxis\":\"y\",\"type\":\"scatter\"}],                        {\"template\":{\"data\":{\"histogram2dcontour\":[{\"type\":\"histogram2dcontour\",\"colorbar\":{\"outlinewidth\":0,\"ticks\":\"\"},\"colorscale\":[[0.0,\"#0d0887\"],[0.1111111111111111,\"#46039f\"],[0.2222222222222222,\"#7201a8\"],[0.3333333333333333,\"#9c179e\"],[0.4444444444444444,\"#bd3786\"],[0.5555555555555556,\"#d8576b\"],[0.6666666666666666,\"#ed7953\"],[0.7777777777777778,\"#fb9f3a\"],[0.8888888888888888,\"#fdca26\"],[1.0,\"#f0f921\"]]}],\"choropleth\":[{\"type\":\"choropleth\",\"colorbar\":{\"outlinewidth\":0,\"ticks\":\"\"}}],\"histogram2d\":[{\"type\":\"histogram2d\",\"colorbar\":{\"outlinewidth\":0,\"ticks\":\"\"},\"colorscale\":[[0.0,\"#0d0887\"],[0.1111111111111111,\"#46039f\"],[0.2222222222222222,\"#7201a8\"],[0.3333333333333333,\"#9c179e\"],[0.4444444444444444,\"#bd3786\"],[0.5555555555555556,\"#d8576b\"],[0.6666666666666666,\"#ed7953\"],[0.7777777777777778,\"#fb9f3a\"],[0.8888888888888888,\"#fdca26\"],[1.0,\"#f0f921\"]]}],\"heatmap\":[{\"type\":\"heatmap\",\"colorbar\":{\"outlinewidth\":0,\"ticks\":\"\"},\"colorscale\":[[0.0,\"#0d0887\"],[0.1111111111111111,\"#46039f\"],[0.2222222222222222,\"#7201a8\"],[0.3333333333333333,\"#9c179e\"],[0.4444444444444444,\"#bd3786\"],[0.5555555555555556,\"#d8576b\"],[0.6666666666666666,\"#ed7953\"],[0.7777777777777778,\"#fb9f3a\"],[0.8888888888888888,\"#fdca26\"],[1.0,\"#f0f921\"]]}],\"heatmapgl\":[{\"type\":\"heatmapgl\",\"colorbar\":{\"outlinewidth\":0,\"ticks\":\"\"},\"colorscale\":[[0.0,\"#0d0887\"],[0.1111111111111111,\"#46039f\"],[0.2222222222222222,\"#7201a8\"],[0.3333333333333333,\"#9c179e\"],[0.4444444444444444,\"#bd3786\"],[0.5555555555555556,\"#d8576b\"],[0.6666666666666666,\"#ed7953\"],[0.7777777777777778,\"#fb9f3a\"],[0.8888888888888888,\"#fdca26\"],[1.0,\"#f0f921\"]]}],\"contourcarpet\":[{\"type\":\"contourcarpet\",\"colorbar\":{\"outlinewidth\":0,\"ticks\":\"\"}}],\"contour\":[{\"type\":\"contour\",\"colorbar\":{\"outlinewidth\":0,\"ticks\":\"\"},\"colorscale\":[[0.0,\"#0d0887\"],[0.1111111111111111,\"#46039f\"],[0.2222222222222222,\"#7201a8\"],[0.3333333333333333,\"#9c179e\"],[0.4444444444444444,\"#bd3786\"],[0.5555555555555556,\"#d8576b\"],[0.6666666666666666,\"#ed7953\"],[0.7777777777777778,\"#fb9f3a\"],[0.8888888888888888,\"#fdca26\"],[1.0,\"#f0f921\"]]}],\"surface\":[{\"type\":\"surface\",\"colorbar\":{\"outlinewidth\":0,\"ticks\":\"\"},\"colorscale\":[[0.0,\"#0d0887\"],[0.1111111111111111,\"#46039f\"],[0.2222222222222222,\"#7201a8\"],[0.3333333333333333,\"#9c179e\"],[0.4444444444444444,\"#bd3786\"],[0.5555555555555556,\"#d8576b\"],[0.6666666666666666,\"#ed7953\"],[0.7777777777777778,\"#fb9f3a\"],[0.8888888888888888,\"#fdca26\"],[1.0,\"#f0f921\"]]}],\"mesh3d\":[{\"type\":\"mesh3d\",\"colorbar\":{\"outlinewidth\":0,\"ticks\":\"\"}}],\"scatter\":[{\"fillpattern\":{\"fillmode\":\"overlay\",\"size\":10,\"solidity\":0.2},\"type\":\"scatter\"}],\"parcoords\":[{\"type\":\"parcoords\",\"line\":{\"colorbar\":{\"outlinewidth\":0,\"ticks\":\"\"}}}],\"scatterpolargl\":[{\"type\":\"scatterpolargl\",\"marker\":{\"colorbar\":{\"outlinewidth\":0,\"ticks\":\"\"}}}],\"bar\":[{\"error_x\":{\"color\":\"#2a3f5f\"},\"error_y\":{\"color\":\"#2a3f5f\"},\"marker\":{\"line\":{\"color\":\"#E5ECF6\",\"width\":0.5},\"pattern\":{\"fillmode\":\"overlay\",\"size\":10,\"solidity\":0.2}},\"type\":\"bar\"}],\"scattergeo\":[{\"type\":\"scattergeo\",\"marker\":{\"colorbar\":{\"outlinewidth\":0,\"ticks\":\"\"}}}],\"scatterpolar\":[{\"type\":\"scatterpolar\",\"marker\":{\"colorbar\":{\"outlinewidth\":0,\"ticks\":\"\"}}}],\"histogram\":[{\"marker\":{\"pattern\":{\"fillmode\":\"overlay\",\"size\":10,\"solidity\":0.2}},\"type\":\"histogram\"}],\"scattergl\":[{\"type\":\"scattergl\",\"marker\":{\"colorbar\":{\"outlinewidth\":0,\"ticks\":\"\"}}}],\"scatter3d\":[{\"type\":\"scatter3d\",\"line\":{\"colorbar\":{\"outlinewidth\":0,\"ticks\":\"\"}},\"marker\":{\"colorbar\":{\"outlinewidth\":0,\"ticks\":\"\"}}}],\"scattermapbox\":[{\"type\":\"scattermapbox\",\"marker\":{\"colorbar\":{\"outlinewidth\":0,\"ticks\":\"\"}}}],\"scatterternary\":[{\"type\":\"scatterternary\",\"marker\":{\"colorbar\":{\"outlinewidth\":0,\"ticks\":\"\"}}}],\"scattercarpet\":[{\"type\":\"scattercarpet\",\"marker\":{\"colorbar\":{\"outlinewidth\":0,\"ticks\":\"\"}}}],\"carpet\":[{\"aaxis\":{\"endlinecolor\":\"#2a3f5f\",\"gridcolor\":\"white\",\"linecolor\":\"white\",\"minorgridcolor\":\"white\",\"startlinecolor\":\"#2a3f5f\"},\"baxis\":{\"endlinecolor\":\"#2a3f5f\",\"gridcolor\":\"white\",\"linecolor\":\"white\",\"minorgridcolor\":\"white\",\"startlinecolor\":\"#2a3f5f\"},\"type\":\"carpet\"}],\"table\":[{\"cells\":{\"fill\":{\"color\":\"#EBF0F8\"},\"line\":{\"color\":\"white\"}},\"header\":{\"fill\":{\"color\":\"#C8D4E3\"},\"line\":{\"color\":\"white\"}},\"type\":\"table\"}],\"barpolar\":[{\"marker\":{\"line\":{\"color\":\"#E5ECF6\",\"width\":0.5},\"pattern\":{\"fillmode\":\"overlay\",\"size\":10,\"solidity\":0.2}},\"type\":\"barpolar\"}],\"pie\":[{\"automargin\":true,\"type\":\"pie\"}]},\"layout\":{\"autotypenumbers\":\"strict\",\"colorway\":[\"#636efa\",\"#EF553B\",\"#00cc96\",\"#ab63fa\",\"#FFA15A\",\"#19d3f3\",\"#FF6692\",\"#B6E880\",\"#FF97FF\",\"#FECB52\"],\"font\":{\"color\":\"#2a3f5f\"},\"hovermode\":\"closest\",\"hoverlabel\":{\"align\":\"left\"},\"paper_bgcolor\":\"white\",\"plot_bgcolor\":\"#E5ECF6\",\"polar\":{\"bgcolor\":\"#E5ECF6\",\"angularaxis\":{\"gridcolor\":\"white\",\"linecolor\":\"white\",\"ticks\":\"\"},\"radialaxis\":{\"gridcolor\":\"white\",\"linecolor\":\"white\",\"ticks\":\"\"}},\"ternary\":{\"bgcolor\":\"#E5ECF6\",\"aaxis\":{\"gridcolor\":\"white\",\"linecolor\":\"white\",\"ticks\":\"\"},\"baxis\":{\"gridcolor\":\"white\",\"linecolor\":\"white\",\"ticks\":\"\"},\"caxis\":{\"gridcolor\":\"white\",\"linecolor\":\"white\",\"ticks\":\"\"}},\"coloraxis\":{\"colorbar\":{\"outlinewidth\":0,\"ticks\":\"\"}},\"colorscale\":{\"sequential\":[[0.0,\"#0d0887\"],[0.1111111111111111,\"#46039f\"],[0.2222222222222222,\"#7201a8\"],[0.3333333333333333,\"#9c179e\"],[0.4444444444444444,\"#bd3786\"],[0.5555555555555556,\"#d8576b\"],[0.6666666666666666,\"#ed7953\"],[0.7777777777777778,\"#fb9f3a\"],[0.8888888888888888,\"#fdca26\"],[1.0,\"#f0f921\"]],\"sequentialminus\":[[0.0,\"#0d0887\"],[0.1111111111111111,\"#46039f\"],[0.2222222222222222,\"#7201a8\"],[0.3333333333333333,\"#9c179e\"],[0.4444444444444444,\"#bd3786\"],[0.5555555555555556,\"#d8576b\"],[0.6666666666666666,\"#ed7953\"],[0.7777777777777778,\"#fb9f3a\"],[0.8888888888888888,\"#fdca26\"],[1.0,\"#f0f921\"]],\"diverging\":[[0,\"#8e0152\"],[0.1,\"#c51b7d\"],[0.2,\"#de77ae\"],[0.3,\"#f1b6da\"],[0.4,\"#fde0ef\"],[0.5,\"#f7f7f7\"],[0.6,\"#e6f5d0\"],[0.7,\"#b8e186\"],[0.8,\"#7fbc41\"],[0.9,\"#4d9221\"],[1,\"#276419\"]]},\"xaxis\":{\"gridcolor\":\"white\",\"linecolor\":\"white\",\"ticks\":\"\",\"title\":{\"standoff\":15},\"zerolinecolor\":\"white\",\"automargin\":true,\"zerolinewidth\":2},\"yaxis\":{\"gridcolor\":\"white\",\"linecolor\":\"white\",\"ticks\":\"\",\"title\":{\"standoff\":15},\"zerolinecolor\":\"white\",\"automargin\":true,\"zerolinewidth\":2},\"scene\":{\"xaxis\":{\"backgroundcolor\":\"#E5ECF6\",\"gridcolor\":\"white\",\"linecolor\":\"white\",\"showbackground\":true,\"ticks\":\"\",\"zerolinecolor\":\"white\",\"gridwidth\":2},\"yaxis\":{\"backgroundcolor\":\"#E5ECF6\",\"gridcolor\":\"white\",\"linecolor\":\"white\",\"showbackground\":true,\"ticks\":\"\",\"zerolinecolor\":\"white\",\"gridwidth\":2},\"zaxis\":{\"backgroundcolor\":\"#E5ECF6\",\"gridcolor\":\"white\",\"linecolor\":\"white\",\"showbackground\":true,\"ticks\":\"\",\"zerolinecolor\":\"white\",\"gridwidth\":2}},\"shapedefaults\":{\"line\":{\"color\":\"#2a3f5f\"}},\"annotationdefaults\":{\"arrowcolor\":\"#2a3f5f\",\"arrowhead\":0,\"arrowwidth\":1},\"geo\":{\"bgcolor\":\"white\",\"landcolor\":\"#E5ECF6\",\"subunitcolor\":\"white\",\"showland\":true,\"showlakes\":true,\"lakecolor\":\"white\"},\"title\":{\"x\":0.05},\"mapbox\":{\"style\":\"light\"}}},\"xaxis\":{\"anchor\":\"y\",\"domain\":[0.0,1.0],\"title\":{\"text\":\"SWE R2 I2: Deliverable\"}},\"yaxis\":{\"anchor\":\"x\",\"domain\":[0.0,1.0],\"title\":{\"text\":\"Accepted?\"}},\"legend\":{\"title\":{\"text\":\"season\"},\"tracegroupgap\":0},\"margin\":{\"t\":60}},                        {\"responsive\": true}                    ).then(function(){\n",
       "                            \n",
       "var gd = document.getElementById('e32cdcbd-4b85-4f7c-9d68-4fa888fc37a6');\n",
       "var x = new MutationObserver(function (mutations, observer) {{\n",
       "        var display = window.getComputedStyle(gd).display;\n",
       "        if (!display || display === 'none') {{\n",
       "            console.log([gd, 'removed!']);\n",
       "            Plotly.purge(gd);\n",
       "            observer.disconnect();\n",
       "        }}\n",
       "}});\n",
       "\n",
       "// Listen for the removal of the full notebook cells\n",
       "var notebookContainer = gd.closest('#notebook-container');\n",
       "if (notebookContainer) {{\n",
       "    x.observe(notebookContainer, {childList: true});\n",
       "}}\n",
       "\n",
       "// Listen for the clearing of the current output cell\n",
       "var outputEl = gd.closest('.output');\n",
       "if (outputEl) {{\n",
       "    x.observe(outputEl, {childList: true});\n",
       "}}\n",
       "\n",
       "                        })                };                });            </script>        </div>"
      ]
     },
     "metadata": {},
     "output_type": "display_data"
    }
   ],
   "source": [
    "fig = px.scatter(frame, x=\"SWE R2 I2: Deliverable\", y=\"Accepted?\", color=\"season\")\n",
    "fig.show()"
   ]
  }
 ],
 "metadata": {
  "kernelspec": {
   "display_name": "Python [conda env:t4sg_interview] *",
   "language": "python",
   "name": "conda-env-t4sg_interview-py"
  },
  "language_info": {
   "codemirror_mode": {
    "name": "ipython",
    "version": 3
   },
   "file_extension": ".py",
   "mimetype": "text/x-python",
   "name": "python",
   "nbconvert_exporter": "python",
   "pygments_lexer": "ipython3",
   "version": "3.9.18"
  }
 },
 "nbformat": 4,
 "nbformat_minor": 5
}

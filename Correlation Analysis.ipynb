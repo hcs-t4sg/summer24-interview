{
 "cells": [
  {
   "cell_type": "code",
   "execution_count": 1,
   "id": "2ae3c3f1-58bd-4fd9-863b-8b0f11b11b15",
   "metadata": {},
   "outputs": [],
   "source": [
    "import pandas as pd\n",
    "import scipy\n",
    "import numpy as np"
   ]
  },
  {
   "cell_type": "code",
   "execution_count": 2,
   "id": "dc692550-bfd6-4743-8d28-90d1777e35dc",
   "metadata": {},
   "outputs": [
    {
     "name": "stdout",
     "output_type": "stream",
     "text": [
      "Index(['Unnamed: 0', 'R1: Excitement', 'SWE R2 I1: Deliverable',\n",
      "       'SWE R2 I1: Technical Communication', 'SWE R2 I1: Learning Ability',\n",
      "       'SWE R2 I1: Teamwork & Communication', 'SWE R2 I1: Overall',\n",
      "       'SWE R2 I2: Deliverable', 'SWE R2 I2: Technical Communication',\n",
      "       'SWE R2 I2: Learning Ability', 'SWE R2 I2: Teamwork & Communication',\n",
      "       'SWE R2 I2: Overall', 'Accepted?', 'Duration (Semesters)',\n",
      "       'Current Member?'],\n",
      "      dtype='object')\n",
      "Index(['Unnamed: 0', 'R1: Excitement', 'SWE R2 I1: Deliverable',\n",
      "       'SWE R2 I1: Technical Communication', 'SWE R2 I1: Learning Ability',\n",
      "       'SWE R2 I1: Teamwork & Communication', 'SWE R2 I1: Overall',\n",
      "       'SWE R2 I2: Deliverable', 'SWE R2 I2: Technical Communication',\n",
      "       'SWE R2 I2: Learning Ability', 'SWE R2 I2: Teamwork & Communication',\n",
      "       'SWE R2 I2: Overall', 'SWE R2 Status', 'Accepted?',\n",
      "       'Duration (Semesters)', 'Current Member?'],\n",
      "      dtype='object')\n",
      "Index(['Unnamed: 0', 'R1: Excitement', 'R1: Overall', 'R1 Average Score',\n",
      "       'SWE R2 I1: Deliverable', 'SWE R2 I1: Technical Communication',\n",
      "       'SWE R2 I1: Learning Ability', 'SWE R2 I1: Teamwork & Communication',\n",
      "       'SWE R2 I1: Overall', 'SWE R2 I2: Deliverable',\n",
      "       'SWE R2 I2: Technical Communication', 'SWE R2 I2: Learning Ability',\n",
      "       'SWE R2 I2: Teamwork & Communication', 'SWE R2 I2: Overall',\n",
      "       'SWE R2 Average Score', 'SWE Performance Score', 'SWE R2 Status',\n",
      "       'Accepted?', 'Duration (Semesters)', 'Current Member?'],\n",
      "      dtype='object')\n",
      "Index(['Unnamed: 0', 'R1: Excitement', 'R1: Overall',\n",
      "       'SWE R2 I1: Passion/Engagement', 'SWE R2 I1: Deliverable',\n",
      "       'SWE R2 I1: Technical Communication', 'SWE R2 I1: Learning Ability',\n",
      "       'SWE R2 I1: Overall', 'SWE R2 I1: Passion/Engagement.1',\n",
      "       'SWE R2 I2: Deliverable', 'SWE R2 I2: Technical Communication',\n",
      "       'SWE R2 I2: Learning Ability', 'SWE R2 I2: Overall', 'R1 Average Score',\n",
      "       'SWE R2 Average Score', 'SWE R2 Status', 'Accepted?',\n",
      "       'Duration (Semesters)', 'Current Member?'],\n",
      "      dtype='object')\n"
     ]
    }
   ],
   "source": [
    "df = pd.read_csv(\"F22ProcessedData.csv\")\n",
    "print(df.columns)\n",
    "\n",
    "df = pd.read_csv(\"S23ProcessedData.csv\")\n",
    "print(df.columns)\n",
    "\n",
    "df = pd.read_csv(\"F23ProcessedData.csv\")\n",
    "print(df.columns)\n",
    "\n",
    "df = pd.read_csv(\"S24ProcessedData.csv\")\n",
    "print(df.columns)"
   ]
  },
  {
   "cell_type": "markdown",
   "id": "d187bf68-23b2-46f2-b00d-cdb694170d52",
   "metadata": {},
   "source": [
    "## Calculate Correlation Between Interviewing Scores and Accepted"
   ]
  },
  {
   "cell_type": "code",
   "execution_count": 17,
   "id": "ee74877a-3da4-47e7-8e09-7691eaedfb8a",
   "metadata": {},
   "outputs": [],
   "source": [
    "def acceptedAndDurationCorr(file_name):\n",
    "    df = pd.read_csv(file_name)\n",
    "\n",
    "    # List of features\n",
    "    columns_interview = []\n",
    "    for column_i in list(df.columns)[1:]:\n",
    "        columns_interview.append(column_i)\n",
    "        if column_i == 'SWE R2 I2: Overall' or column_i == 'SWE R2 Average Score':\n",
    "            break\n",
    "    \n",
    "    # Found appropriate correlation measure here: https://www.ce.memphis.edu/7012/L17_CategoricalVariableAssociation.pdf \n",
    "    \n",
    "    corr_list = []\n",
    "    for column_i in columns_interview:\n",
    "        corr_list.append((\n",
    "            column_i, \n",
    "            scipy.stats.pointbiserialr(np.array(df[column_i]), np.array(df['Accepted?'])),\n",
    "            scipy.stats.pointbiserialr(np.array(df[column_i]), np.array(df['Duration (Semesters)'])),\n",
    "        ))\n",
    "\n",
    "    print(\"TOP 5 R Accepted Values\")\n",
    "    corr_list.sort(key = lambda item : item[1].statistic)\n",
    "    \n",
    "    for key, val, val2  in corr_list[-5:]:\n",
    "        print(key, val.statistic)\n",
    "\n",
    "    print(\"TOP 5 R Duration Values\")\n",
    "    corr_list.sort(key = lambda item : item[2].statistic)\n",
    "    \n",
    "    for key, val, val2 in corr_list[-5:]:\n",
    "        print(key, val2.statistic)\n",
    "\n",
    "    print()\n",
    "\n",
    "   "
   ]
  },
  {
   "cell_type": "code",
   "execution_count": 18,
   "id": "859181c6-0a97-4ea7-a8e1-cf65801dadde",
   "metadata": {},
   "outputs": [
    {
     "name": "stdout",
     "output_type": "stream",
     "text": [
      "F22ProcessedData.csv\n",
      "TOP 5 R Accepted Values\n",
      "SWE R2 I1: Deliverable 0.5379823748652963\n",
      "SWE R2 I1: Teamwork & Communication 0.548833100977617\n",
      "SWE R2 I1: Learning Ability 0.5695210740924566\n",
      "SWE R2 I1: Technical Communication 0.6058791811846899\n",
      "SWE R2 I1: Overall 0.6422802539779227\n",
      "TOP 5 R Duration Values\n",
      "SWE R2 I1: Deliverable 0.47523317704262996\n",
      "SWE R2 I1: Learning Ability 0.49340944747388493\n",
      "SWE R2 I1: Teamwork & Communication 0.5267490804694394\n",
      "SWE R2 I1: Technical Communication 0.575128035872991\n",
      "SWE R2 I1: Overall 0.611803405523612\n",
      "\n",
      "S23ProcessedData.csv\n",
      "TOP 5 R Accepted Values\n",
      "SWE R2 I2: Learning Ability 0.5034816842488848\n",
      "SWE R2 I2: Overall 0.5069288611926808\n",
      "SWE R2 I2: Teamwork & Communication 0.5200911513951968\n",
      "SWE R2 I1: Overall 0.5271935748519105\n",
      "SWE R2 I2: Deliverable 0.5327694141696595\n",
      "TOP 5 R Duration Values\n",
      "SWE R2 I2: Learning Ability 0.42035141025478173\n",
      "SWE R2 I2: Deliverable 0.43092853926630714\n",
      "SWE R2 I2: Overall 0.4332510240032247\n",
      "SWE R2 I1: Overall 0.43789953035615203\n",
      "SWE R2 I2: Teamwork & Communication 0.45830112414167956\n",
      "\n",
      "F23ProcessedData.csv\n",
      "TOP 5 R Accepted Values\n",
      "SWE R2 I2: Deliverable 0.6454928065167762\n",
      "SWE R2 I2: Overall 0.6548822518554887\n",
      "SWE R2 I2: Technical Communication 0.6727366976327445\n",
      "SWE R2 I1: Deliverable 0.6745243038232587\n",
      "SWE R2 I1: Overall 0.6820807993641047\n",
      "TOP 5 R Duration Values\n",
      "SWE R2 I1: Deliverable 0.6138857162741049\n",
      "SWE R2 I2: Overall 0.6278340628260894\n",
      "SWE R2 I1: Teamwork & Communication 0.6284382544787369\n",
      "SWE R2 I1: Overall 0.643242209920557\n",
      "SWE R2 I2: Technical Communication 0.6512165317525693\n",
      "\n",
      "S24ProcessedData.csv\n",
      "TOP 5 R Accepted Values\n",
      "SWE R2 I2: Overall 0.3599184020825213\n",
      "SWE R2 I1: Overall 0.3875057305843901\n",
      "SWE R2 I1: Deliverable 0.389171198959616\n",
      "SWE R2 I1: Technical Communication 0.4292715531510685\n",
      "SWE R2 I2: Deliverable 0.4434656396448605\n",
      "TOP 5 R Duration Values\n",
      "SWE R2 I2: Overall 0.3599184020825213\n",
      "SWE R2 I1: Overall 0.3875057305843901\n",
      "SWE R2 I1: Deliverable 0.389171198959616\n",
      "SWE R2 I1: Technical Communication 0.4292715531510685\n",
      "SWE R2 I2: Deliverable 0.4434656396448605\n",
      "\n"
     ]
    }
   ],
   "source": [
    "for file_i in [\"F22ProcessedData.csv\", \"S23ProcessedData.csv\", \"F23ProcessedData.csv\", \"S24ProcessedData.csv\"]:\n",
    "    print(file_i)\n",
    "    acceptedAndDurationCorr(file_name = file_i)\n",
    "    "
   ]
  }
 ],
 "metadata": {
  "kernelspec": {
   "display_name": "Python 3",
   "language": "python",
   "name": "python3"
  },
  "language_info": {
   "codemirror_mode": {
    "name": "ipython",
    "version": 3
   },
   "file_extension": ".py",
   "mimetype": "text/x-python",
   "name": "python",
   "nbconvert_exporter": "python",
   "pygments_lexer": "ipython3",
   "version": "3.9.18"
  }
 },
 "nbformat": 4,
 "nbformat_minor": 5
}
